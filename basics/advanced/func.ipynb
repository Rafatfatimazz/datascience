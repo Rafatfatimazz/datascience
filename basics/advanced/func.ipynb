{
 "cells": [
  {
   "cell_type": "markdown",
   "metadata": {},
   "source": [
    "## functions :\n",
    "function can be divided into these types on the basis of input and output\n",
    "-> selfcontained function->these are like useless for us\n",
    "parameter-> function that takes input(parameter/arg)->special func because they update directly the object value\n",
    "         ->function that return values->output\n",
    "         \n",
    "1:predefined -builtin ,methods(in oops),modulefunction(library)\n",
    "\n",
    "2:userdefined->keyword:def\n",
    "def func_name([args/para if required]):\n",
    "                                          statement 1\n",
    "                                         .\n",
    "                                         .\n",
    "                                         .\n",
    "                                         statement n\n",
    "                                         [return values if required]\n",
    "\n"
   ]
  },
  {
   "cell_type": "code",
   "execution_count": 1,
   "metadata": {},
   "outputs": [
    {
     "name": "stdout",
     "output_type": "stream",
     "text": [
      "\u001b[1;31mDocstring:\u001b[0m\n",
      "print(value, ..., sep=' ', end='\\n', file=sys.stdout, flush=False)\n",
      "\n",
      "Prints the values to a stream, or to sys.stdout by default.\n",
      "Optional keyword arguments:\n",
      "file:  a file-like object (stream); defaults to the current sys.stdout.\n",
      "sep:   string inserted between values, default a space.\n",
      "end:   string appended after the last value, default a newline.\n",
      "flush: whether to forcibly flush the stream.\n",
      "\u001b[1;31mType:\u001b[0m      builtin_function_or_method\n"
     ]
    }
   ],
   "source": [
    "print?"
   ]
  },
  {
   "cell_type": "code",
   "execution_count": 2,
   "metadata": {},
   "outputs": [
    {
     "name": "stdout",
     "output_type": "stream",
     "text": [
      "Object `append` not found.\n"
     ]
    }
   ],
   "source": [
    "list append?"
   ]
  },
  {
   "cell_type": "markdown",
   "metadata": {},
   "source": [
    "hw:find five function which returns no output"
   ]
  },
  {
   "cell_type": "markdown",
   "metadata": {},
   "source": [
    "datastructures func are of type of that func which takes nothing as input but return an output of type like bool or etc"
   ]
  },
  {
   "cell_type": "code",
   "execution_count": 1,
   "metadata": {},
   "outputs": [
    {
     "name": "stdout",
     "output_type": "stream",
     "text": [
      "hi I am outside of the function\n"
     ]
    }
   ],
   "source": [
    "def hello():\n",
    "    print(\"this is a function\")\n",
    "    print(\"this is not  a function\")\n",
    "    print(\"forget that this function exist\")\n",
    "    print(\"bye\")\n",
    "print(\"hi I am outside of the function\")  ## print this line only bcs we are not calling it  "
   ]
  },
  {
   "cell_type": "code",
   "execution_count": 4,
   "metadata": {},
   "outputs": [
    {
     "name": "stdout",
     "output_type": "stream",
     "text": [
      "this is a function\n",
      "this is not  a function\n",
      "forget that this function exist\n",
      "bye\n",
      "hi I am outside of the function\n"
     ]
    }
   ],
   "source": [
    "def hello():\n",
    "    print(\"this is a function\")\n",
    "    print(\"this is not  a function\")\n",
    "    print(\"forget that this function exist\")\n",
    "    print(\"bye\")\n",
    "hello()    ## calling function\n",
    "print(\"hi I am outside of the function\")  \n"
   ]
  },
  {
   "cell_type": "code",
   "execution_count": 6,
   "metadata": {},
   "outputs": [
    {
     "name": "stdout",
     "output_type": "stream",
     "text": [
      "this is a function\n",
      "this is not  a function\n",
      "forget that this function exist\n",
      "bye\n",
      "this is a function\n",
      "this is not  a function\n",
      "forget that this function exist\n",
      "bye\n",
      "this is a function\n",
      "this is not  a function\n",
      "forget that this function exist\n",
      "bye\n"
     ]
    }
   ],
   "source": [
    "for i in range(3):## this func will not accept any changes not dynamic in nature so that it is not good\n",
    "    hello()"
   ]
  },
  {
   "cell_type": "code",
   "execution_count": 8,
   "metadata": {},
   "outputs": [],
   "source": [
    "def area():\n",
    "    pass     ## we can write pass in loops and cond statements"
   ]
  },
  {
   "cell_type": "code",
   "execution_count": 10,
   "metadata": {},
   "outputs": [
    {
     "data": {
      "text/plain": [
       "25"
      ]
     },
     "execution_count": 10,
     "metadata": {},
     "output_type": "execute_result"
    }
   ],
   "source": [
    "def area(length,breadth):    ## this function is dynamic\n",
    "    a=length*breadth\n",
    "    return a  ## we will not take input and give print for final prog\n",
    "area(5,5) \n",
    "##print(\"the area is \",area(5,5))  \n"
   ]
  },
  {
   "cell_type": "code",
   "execution_count": 11,
   "metadata": {},
   "outputs": [
    {
     "name": "stdout",
     "output_type": "stream",
     "text": [
      "20 14\n"
     ]
    }
   ],
   "source": [
    "ans1=area(4,5)\n",
    "ans2=area(2,7)## saving our ans\n",
    "print(ans1,ans2)"
   ]
  },
  {
   "cell_type": "code",
   "execution_count": 12,
   "metadata": {},
   "outputs": [
    {
     "name": "stdout",
     "output_type": "stream",
     "text": [
      "55\n"
     ]
    }
   ],
   "source": [
    "big_area=area(5,5)+area(3,5)+15 ## function can be in expression\n",
    "print(big_area)"
   ]
  },
  {
   "cell_type": "code",
   "execution_count": 18,
   "metadata": {},
   "outputs": [],
   "source": [
    "def fib(start:int,size:int):\n",
    "    ##function documentation\n",
    "    '''\n",
    "    ### this fibonacci function\n",
    "    -start :pass a number to start of fibonacci series\n",
    "    -size : size of fibonacci series\n",
    "    ``` python\n",
    "    out=fib(0)\n",
    "    print(out)\n",
    "    ``` \n",
    "     '''\n",
    "    out=[start,start+1]\n",
    "    for i in range(size-2):\n",
    "     out.append(out[-1]+out[-2])\n",
    "    return out\n",
    "         \n",
    "    "
   ]
  },
  {
   "cell_type": "code",
   "execution_count": 21,
   "metadata": {},
   "outputs": [
    {
     "name": "stdout",
     "output_type": "stream",
     "text": [
      "[0, 1, 1, 2, 3, 5, 8, 13, 21, 34]\n"
     ]
    }
   ],
   "source": [
    "print(fib(0,10))\n"
   ]
  },
  {
   "cell_type": "code",
   "execution_count": 29,
   "metadata": {},
   "outputs": [
    {
     "name": "stdout",
     "output_type": "stream",
     "text": [
      "the simple interest and amount is (40.0, 240.0)\n"
     ]
    }
   ],
   "source": [
    "## create a function to calculate the SI and amount\n",
    "def simp(p=int,r=int,t=int):\n",
    "    s=p*r*t/100\n",
    "    a=s+p\n",
    "    return s,a   ## pack and return tuple\n",
    "print(\"the simple interest and amount is\",simp(200,10,2,))\n",
    "\n",
    "\n"
   ]
  },
  {
   "cell_type": "code",
   "execution_count": 31,
   "metadata": {},
   "outputs": [
    {
     "name": "stdout",
     "output_type": "stream",
     "text": [
      "the simple interest 160.0 amount is 560.0\n"
     ]
    }
   ],
   "source": [
    "si,amt=simp(400,10,4)\n",
    "print(\"the simple interest\",si,\"amount is\",amt)"
   ]
  },
  {
   "cell_type": "code",
   "execution_count": 2,
   "metadata": {},
   "outputs": [],
   "source": [
    "import util ## local library"
   ]
  },
  {
   "cell_type": "code",
   "execution_count": 3,
   "metadata": {},
   "outputs": [
    {
     "data": {
      "text/plain": [
       "{'is': 2,\n",
       " 'the': 1,\n",
       " 'and': 1,\n",
       " 'python': 1,\n",
       " '1234': 1,\n",
       " 'number': 1,\n",
       " 'file': 1,\n",
       " 'integer': 1,\n",
       " 'this': 1,\n",
       " 'in': 1,\n",
       " 'format': 1}"
      ]
     },
     "execution_count": 3,
     "metadata": {},
     "output_type": "execute_result"
    }
   ],
   "source": [
    "s=\"this is python file and 1234 is the number in integer format\"     \n",
    "util.word_counter(s)"
   ]
  },
  {
   "cell_type": "code",
   "execution_count": 4,
   "metadata": {},
   "outputs": [
    {
     "data": {
      "text/plain": [
       "{'is': 2,\n",
       " 'the': 1,\n",
       " 'and': 1,\n",
       " 'python': 1,\n",
       " '1234': 1,\n",
       " 'number': 1,\n",
       " 'file': 1,\n",
       " 'integer': 1,\n",
       " 'this': 1,\n",
       " 'in': 1,\n",
       " 'format': 1}"
      ]
     },
     "execution_count": 4,
     "metadata": {},
     "output_type": "execute_result"
    }
   ],
   "source": [
    "t=\"this is python file and 1234 is the number in integer format\"     \n",
    "util.word_counter(t)"
   ]
  },
  {
   "cell_type": "code",
   "execution_count": null,
   "metadata": {},
   "outputs": [],
   "source": []
  }
 ],
 "metadata": {
  "kernelspec": {
   "display_name": "Python 3.9.12 ('base')",
   "language": "python",
   "name": "python3"
  },
  "language_info": {
   "codemirror_mode": {
    "name": "ipython",
    "version": 3
   },
   "file_extension": ".py",
   "mimetype": "text/x-python",
   "name": "python",
   "nbconvert_exporter": "python",
   "pygments_lexer": "ipython3",
   "version": "3.9.12"
  },
  "orig_nbformat": 4,
  "vscode": {
   "interpreter": {
    "hash": "5b6002d1e928962cd19dde4287e8a81266a3dfa22c12012df96bb19a6e27b9c0"
   }
  }
 },
 "nbformat": 4,
 "nbformat_minor": 2
}
