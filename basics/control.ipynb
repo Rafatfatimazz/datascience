{
 "cells": [
  {
   "cell_type": "markdown",
   "metadata": {},
   "source": [
    "## CONTROL\n",
    "\n",
    "✔ conditions - if            ✔(single condition based prog. used with if only)\n",
    "               if else       ✔(complete condition based prog. used with if else both)\n",
    "               if elif else     ✔(multiple condition based prog. used with if elif and else)\n",
    "\n",
    "✔ loop:two loops while and for\n",
    "## we can't use { } for bocks in python so indentation is introduced\n",
    "## : shows starting of the block\n"
   ]
  },
  {
   "cell_type": "markdown",
   "metadata": {},
   "source": [
    "## if\n",
    "if expression :\n",
    "     statement 1\n",
    "     statement 2\n",
    "     ...\n",
    "     statement n"
   ]
  },
  {
   "cell_type": "code",
   "execution_count": 15,
   "metadata": {},
   "outputs": [
    {
     "name": "stdout",
     "output_type": "stream",
     "text": [
      "Number is even\n",
      "the end\n"
     ]
    }
   ],
   "source": [
    "x=40\n",
    "if x%2==0 : \n",
    "    print(\"Number is even\")\n",
    "   \n",
    "print(\"the end\") "
   ]
  },
  {
   "cell_type": "code",
   "execution_count": 18,
   "metadata": {},
   "outputs": [
    {
     "name": "stdout",
     "output_type": "stream",
     "text": [
      "Number is not numeric\n"
     ]
    }
   ],
   "source": [
    "num=input(\"Enter a number\" )\n",
    "if num.isnumeric() :\n",
    "    print(\"Number is numeric so good job dude\")\n",
    "else:\n",
    "    print(\"Number is not numeric\")"
   ]
  },
  {
   "cell_type": "code",
   "execution_count": 21,
   "metadata": {},
   "outputs": [
    {
     "name": "stdout",
     "output_type": "stream",
     "text": [
      "Number is not numeric\n"
     ]
    }
   ],
   "source": [
    "num=input(\"enter a number\")\n",
    "if num.isnumeric():\n",
    "    print(\"Number is numeric\")\n",
    "    num=int(num) ##input must be int it checks that it does not work with float\n",
    "else:\n",
    "    print(\"Number is not numeric\")    "
   ]
  },
  {
   "cell_type": "code",
   "execution_count": 30,
   "metadata": {},
   "outputs": [],
   "source": [
    "username=input(\"enter name\")\n",
    "email=input(\"enter mail\")\n",
    "password=input(\"enter password\")\n",
    "if username==\"Rafat\" :\n",
    "    if email==\"ak6583655@gmail.com\" :\n",
    "        if password==\"abcd\" :\n",
    "            print(\"welcome programmer Rafat\")\n",
    "        else:\n",
    "            print(\"wrong password\")\n",
    "    else:\n",
    "        print(\"wrong mail\")\n",
    "else:(\"wrong name\")                    "
   ]
  },
  {
   "cell_type": "code",
   "execution_count": 39,
   "metadata": {},
   "outputs": [
    {
     "ename": "SyntaxError",
     "evalue": "invalid syntax (1985233996.py, line 4)",
     "output_type": "error",
     "traceback": [
      "\u001b[1;36m  Input \u001b[1;32mIn [39]\u001b[1;36m\u001b[0m\n\u001b[1;33m    if(username==\"Rafat\"&&email==\"ak6583655@gmail.com\" && password==\"abcd123\") :\u001b[0m\n\u001b[1;37m                         ^\u001b[0m\n\u001b[1;31mSyntaxError\u001b[0m\u001b[1;31m:\u001b[0m invalid syntax\n"
     ]
    }
   ],
   "source": [
    "username=input(\"enter name\")\n",
    "email=input(\"enter mail\")\n",
    "password=input(\"enter password\")\n",
    "if(username==\"Rafat\"&&email==\"ak6583655@gmail.com\" && password==\"abcd123\") :\n",
    "    print(\"welcome Rafat the programmer\")\n",
    "else:\n",
    "    print(\"Enter the details properly\")    "
   ]
  },
  {
   "cell_type": "code",
   "execution_count": 38,
   "metadata": {},
   "outputs": [
    {
     "name": "stdout",
     "output_type": "stream",
     "text": [
      "Wrong name\n"
     ]
    }
   ],
   "source": [
    "username=input(\"enter name\")\n",
    "email=input(\"enter mail\")\n",
    "password=input(\"enter password\")\n",
    "if username !=\"Rafat\":\n",
    "    print(\"Wrong name\")\n",
    "elif email !=\"ak6583655@gmail.com\":\n",
    "    print(\"wrong mail\")\n",
    "elif password !=\"abcd\":\n",
    "    print(\"wrong password\")\n",
    "else:\n",
    "    print(\"welcome Rafat fatima\")    "
   ]
  },
  {
   "cell_type": "markdown",
   "metadata": {},
   "source": [
    "## WAP to calculate the grade"
   ]
  },
  {
   "cell_type": "code",
   "execution_count": 7,
   "metadata": {},
   "outputs": [
    {
     "ename": "IndentationError",
     "evalue": "unindent does not match any outer indentation level (<tokenize>, line 13)",
     "output_type": "error",
     "traceback": [
      "\u001b[1;36m  File \u001b[1;32m<tokenize>:13\u001b[1;36m\u001b[0m\n\u001b[1;33m    else:\u001b[0m\n\u001b[1;37m    ^\u001b[0m\n\u001b[1;31mIndentationError\u001b[0m\u001b[1;31m:\u001b[0m unindent does not match any outer indentation level\n"
     ]
    }
   ],
   "source": [
    "marks=input(\"enter marks\")\n",
    "if not marks.isnumeric():\n",
    "    print(\"invalid marks\")\n",
    "else    \n",
    "    if marks>= 90:\n",
    "       print(\"grade is A\")\n",
    "        elif marks>= 80:\n",
    "         print(\"grade is B\")\n",
    "        elif marks>=  70:\n",
    "         print(\"grade is C\")\n",
    "        elif(marks>= 60) :\n",
    "         print(\"grade is D\")\n",
    "      else:\n",
    "       printf(\"fail\")                       "
   ]
  },
  {
   "cell_type": "markdown",
   "metadata": {},
   "source": [
    "## for loop is iterable \n",
    "for var in iterable:\n",
    "statement 1\n",
    "....\n",
    "statement n"
   ]
  },
  {
   "cell_type": "code",
   "execution_count": 4,
   "metadata": {},
   "outputs": [
    {
     "data": {
      "text/plain": [
       "9"
      ]
     },
     "execution_count": 4,
     "metadata": {},
     "output_type": "execute_result"
    }
   ],
   "source": [
    "word=\"VOLKWAGEN\"\n",
    "len(word) ##gives the length of the word"
   ]
  },
  {
   "cell_type": "markdown",
   "metadata": {},
   "source": [
    "## syntax\n",
    "for <variable>in<sequence>\n",
    "   statement 1\n",
    "   ...\n",
    "   statement n"
   ]
  },
  {
   "cell_type": "code",
   "execution_count": 5,
   "metadata": {},
   "outputs": [
    {
     "name": "stdout",
     "output_type": "stream",
     "text": [
      "p\n",
      "y\n",
      "t\n",
      "h\n",
      "o\n",
      "n\n"
     ]
    }
   ],
   "source": [
    "x=\"python\"\n",
    "for i in x:\n",
    "    print(i)"
   ]
  },
  {
   "cell_type": "markdown",
   "metadata": {},
   "source": [
    "## string settings can be changed in python\n",
    "-r =raw string ✔when we want address no characters as it is written without any changes we us eit in regular expressions\n",
    "-f=formatted string✔we want to put variables in strings\n",
    "-b=byte string"
   ]
  },
  {
   "cell_type": "code",
   "execution_count": 10,
   "metadata": {},
   "outputs": [
    {
     "name": "stdout",
     "output_type": "stream",
     "text": [
      "i have apple\n",
      "i have mango\n",
      "i have banana\n",
      "i have grapes\n"
     ]
    }
   ],
   "source": [
    "fruits=[\"apple\",\"mango\",\"banana\",\"grapes\"]\n",
    "for i in fruits:\n",
    "    print(f\"i have {i}\")##formated string"
   ]
  },
  {
   "cell_type": "code",
   "execution_count": 11,
   "metadata": {},
   "outputs": [
    {
     "name": "stdout",
     "output_type": "stream",
     "text": [
      "i can count the 10 birds on the rrof my house\n"
     ]
    }
   ],
   "source": [
    "a=10\n",
    "b=\"birds\"\n",
    "print(\"i can count the\",a,b,\"on the roof my house\")"
   ]
  },
  {
   "cell_type": "code",
   "execution_count": 13,
   "metadata": {},
   "outputs": [
    {
     "name": "stdout",
     "output_type": "stream",
     "text": [
      "i can count 10 birds on the roof of my house\n"
     ]
    }
   ],
   "source": [
    "a=10\n",
    "b=\"birds\"\n",
    "print(f\"i can count {a} {b} on the roof of my house\")"
   ]
  },
  {
   "cell_type": "markdown",
   "metadata": {},
   "source": [
    "## range() defines how many times a loop will run\n",
    "✔start : start value of the loop(optional)\n",
    "✔stop : end value(must)\n",
    "✔step : gap between two consecutive terms\n",
    "## example\n",
    "range(1,20) the range will be from 2 to 19 ,20 is the stopping value\n",
    "range(1,20,3)the range will be from 2 to 19 with the gap of 3"
   ]
  },
  {
   "cell_type": "code",
   "execution_count": 15,
   "metadata": {},
   "outputs": [
    {
     "name": "stdout",
     "output_type": "stream",
     "text": [
      "you got points 0\n",
      "you got points 1\n",
      "you got points 2\n",
      "you got points 3\n",
      "you got points 4\n",
      "you got points 5\n"
     ]
    }
   ],
   "source": [
    "for i in range(6):\n",
    "    print(\"you got points\",i)"
   ]
  },
  {
   "cell_type": "code",
   "execution_count": 22,
   "metadata": {},
   "outputs": [
    {
     "name": "stdout",
     "output_type": "stream",
     "text": [
      "congrats you win\n",
      "\n",
      "1\n",
      "2\n",
      "3\n",
      "4\n",
      "5\n"
     ]
    }
   ],
   "source": [
    " print(\"congrats you win\\n\")\n",
    "for i in range(1,6):\n",
    "    print(i)"
   ]
  },
  {
   "cell_type": "code",
   "execution_count": 26,
   "metadata": {},
   "outputs": [
    {
     "name": "stdout",
     "output_type": "stream",
     "text": [
      "congrats rafat fatimazz you have written the table of 2\n",
      "2\n",
      "4\n",
      "6\n",
      "8\n",
      "10\n",
      "12\n",
      "14\n",
      "16\n",
      "18\n",
      "20\n"
     ]
    }
   ],
   "source": [
    "print(\"congrats rafat fatimazz you have written the table of 2\")\n",
    "for i in range(2,21,2):\n",
    "   print(i)"
   ]
  },
  {
   "cell_type": "code",
   "execution_count": 28,
   "metadata": {},
   "outputs": [
    {
     "name": "stdout",
     "output_type": "stream",
     "text": [
      "20\n",
      "18\n",
      "16\n",
      "14\n",
      "12\n",
      "10\n",
      "8\n",
      "6\n",
      "4\n",
      "2\n"
     ]
    }
   ],
   "source": [
    "## reverse loop\n",
    "for n in range(20,1,-2):\n",
    "    print(n)"
   ]
  },
  {
   "cell_type": "code",
   "execution_count": 31,
   "metadata": {},
   "outputs": [
    {
     "name": "stdout",
     "output_type": "stream",
     "text": [
      "\n",
      "*\n",
      "**\n",
      "***\n",
      "****\n",
      "*****\n",
      "******\n",
      "*******\n",
      "********\n",
      "*********\n"
     ]
    }
   ],
   "source": [
    "for i in range(10):\n",
    "    print(i*\"*\")"
   ]
  },
  {
   "cell_type": "markdown",
   "metadata": {},
   "source": [
    "## extra functional settings in for loop\n",
    "✔Enumerate :want to get indexes or positions\n",
    "✔zip\n"
   ]
  },
  {
   "cell_type": "code",
   "execution_count": 12,
   "metadata": {},
   "outputs": [
    {
     "name": "stdout",
     "output_type": "stream",
     "text": [
      "(0, 'Apple')\n",
      "(1, 'mango')\n",
      "(2, 'bananan')\n",
      "(3, 'grapes')\n"
     ]
    }
   ],
   "source": [
    "fruits=[\"Apple\",\"mango\",\"bananan\",\"grapes\"]\n",
    "for f in enumerate(fruits):\n",
    "    print(f)"
   ]
  },
  {
   "cell_type": "code",
   "execution_count": 13,
   "metadata": {},
   "outputs": [
    {
     "name": "stdout",
     "output_type": "stream",
     "text": [
      "0 Apple\n",
      "1 mango\n",
      "2 bananan\n",
      "3 grapes\n"
     ]
    }
   ],
   "source": [
    "for i,f in enumerate(fruits):\n",
    "    print(i,f)"
   ]
  },
  {
   "cell_type": "code",
   "execution_count": 15,
   "metadata": {},
   "outputs": [
    {
     "name": "stdout",
     "output_type": "stream",
     "text": [
      "Apple => 100\n",
      "mango => 200\n",
      "bananan => 30\n",
      "grapes => 56\n"
     ]
    }
   ],
   "source": [
    "prices=[100,200,30,56]\n",
    "for f,p in zip(fruits,prices):\n",
    "    print(f,\"=>\",p)"
   ]
  },
  {
   "cell_type": "code",
   "execution_count": 16,
   "metadata": {},
   "outputs": [
    {
     "name": "stdout",
     "output_type": "stream",
     "text": [
      "Apple => 100 => ['2 kg', '3 kg', '1 kg', '1 kg']\n",
      "mango => 200 => ['2 kg', '3 kg', '1 kg', '1 kg']\n",
      "bananan => 30 => ['2 kg', '3 kg', '1 kg', '1 kg']\n",
      "grapes => 56 => ['2 kg', '3 kg', '1 kg', '1 kg']\n"
     ]
    }
   ],
   "source": [
    "qty=[\"2 kg\",\"3 kg\",\"1 kg\",\"1 kg\"]\n",
    "for f,p,q in zip(fruits,prices,qty):\n",
    "    print(f,\"=>\",p,\"=>\",qty)"
   ]
  },
  {
   "cell_type": "markdown",
   "metadata": {},
   "source": [
    "## we can control our turtle \n",
    "goto(pos1,pos2)\n",
    "for back to origin\n",
    "t.home"
   ]
  },
  {
   "cell_type": "markdown",
   "metadata": {},
   "source": [
    "## turtle\n",
    "penup():we cant write when pen is up it only changes the position without making any lines of traversing using goto()"
   ]
  },
  {
   "cell_type": "markdown",
   "metadata": {},
   "source": [
    "## Nested loop\n",
    "loop within loop\n",
    "✔outer loop one time inner loop whole"
   ]
  },
  {
   "cell_type": "code",
   "execution_count": 2,
   "metadata": {},
   "outputs": [
    {
     "name": "stdout",
     "output_type": "stream",
     "text": [
      "0 0\n",
      "0 1\n",
      "0 2\n",
      "0 3\n",
      "0 4\n",
      "1 0\n",
      "1 1\n",
      "1 2\n",
      "1 3\n",
      "1 4\n",
      "2 0\n",
      "2 1\n",
      "2 2\n",
      "2 3\n",
      "2 4\n",
      "3 0\n",
      "3 1\n",
      "3 2\n",
      "3 3\n",
      "3 4\n",
      "4 0\n",
      "4 1\n",
      "4 2\n",
      "4 3\n",
      "4 4\n"
     ]
    }
   ],
   "source": [
    "for i in range(5):\n",
    "    for j in range(5):\n",
    "        print(i,j)"
   ]
  },
  {
   "cell_type": "code",
   "execution_count": 3,
   "metadata": {},
   "outputs": [
    {
     "name": "stdout",
     "output_type": "stream",
     "text": [
      "50\n",
      "40\n",
      "30\n",
      "20\n",
      "10\n"
     ]
    }
   ],
   "source": [
    "## while loop\n",
    "##true false value\n",
    "start=50\n",
    "while start>0:\n",
    "    print(start)\n",
    "    start-=10"
   ]
  },
  {
   "cell_type": "code",
   "execution_count": 12,
   "metadata": {},
   "outputs": [
    {
     "name": "stdout",
     "output_type": "stream",
     "text": [
      "0🎉5🎉10🎉15🎉20🎉25🎉30🎉35🎉40🎉45🎉50🎉55🎉"
     ]
    }
   ],
   "source": [
    "num=100\n",
    "i=0\n",
    "while i<num:\n",
    "    if i==60:\n",
    "        break\n",
    "    print(i,end=\"🎉\")\n",
    "    i+=5    "
   ]
  },
  {
   "cell_type": "code",
   "execution_count": 18,
   "metadata": {},
   "outputs": [
    {
     "name": "stdout",
     "output_type": "stream",
     "text": [
      "you have entered following data\n",
      "this is Rafat fatimaazzzz python class \n"
     ]
    }
   ],
   "source": [
    "data=\"\"##empty string\n",
    "while True:\n",
    "    line=input(\"line>>\")\n",
    "    if not line:\n",
    "        break\n",
    "    data+=line+\" \"\n",
    "print(\"you have entered following data\")\n",
    "print(data)    "
   ]
  }
 ],
 "metadata": {
  "kernelspec": {
   "display_name": "Python 3.9.12 ('base')",
   "language": "python",
   "name": "python3"
  },
  "language_info": {
   "codemirror_mode": {
    "name": "ipython",
    "version": 3
   },
   "file_extension": ".py",
   "mimetype": "text/x-python",
   "name": "python",
   "nbconvert_exporter": "python",
   "pygments_lexer": "ipython3",
   "version": "3.9.12"
  },
  "orig_nbformat": 4,
  "vscode": {
   "interpreter": {
    "hash": "5b6002d1e928962cd19dde4287e8a81266a3dfa22c12012df96bb19a6e27b9c0"
   }
  }
 },
 "nbformat": 4,
 "nbformat_minor": 2
}
