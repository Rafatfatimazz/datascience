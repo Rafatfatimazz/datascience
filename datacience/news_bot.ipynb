{
 "cells": [
  {
   "cell_type": "code",
   "execution_count": 1,
   "metadata": {},
   "outputs": [],
   "source": [
    "import requests\n",
    "from bs4 import BeautifulSoup"
   ]
  },
  {
   "cell_type": "code",
   "execution_count": 2,
   "metadata": {},
   "outputs": [],
   "source": [
    "def get_soup(url):\n",
    "    page=requests.get(url)\n",
    "    return BeautifulSoup(page.text)\n"
   ]
  },
  {
   "cell_type": "code",
   "execution_count": 3,
   "metadata": {},
   "outputs": [],
   "source": [
    "soup=get_soup(\"https://www.ndtv.com/latest\")\n"
   ]
  },
  {
   "cell_type": "code",
   "execution_count": 4,
   "metadata": {},
   "outputs": [],
   "source": [
    "target=soup.find(\"div\",attrs={\"class\":\"lisingNews\"})\n",
    "\n"
   ]
  },
  {
   "cell_type": "code",
   "execution_count": 5,
   "metadata": {},
   "outputs": [
    {
     "name": "stdout",
     "output_type": "stream",
     "text": [
      "17\n"
     ]
    }
   ],
   "source": [
    "newslist=target.find_all(\"div\",attrs={\"class\":\"news_Itm\"})\n",
    "print(len(newslist))\n"
   ]
  },
  {
   "cell_type": "code",
   "execution_count": 6,
   "metadata": {},
   "outputs": [
    {
     "name": "stdout",
     "output_type": "stream",
     "text": [
      "US Open: \"No Regrets\" As Ons Jabeur Targets World Top Spot\n",
      "India Has 100 Unicorns With A Value At $250 Billion: Nirmala Sitharaman\n",
      "Australia vs New Zealand, 3rd ODI Live Score Updates: New Zealand Opt To Bowl In Aaron Finch's Final ODI\n"
     ]
    },
    {
     "ename": "AttributeError",
     "evalue": "'NoneType' object has no attribute 'text'",
     "output_type": "error",
     "traceback": [
      "\u001b[1;31m---------------------------------------------------------------------------\u001b[0m",
      "\u001b[1;31mAttributeError\u001b[0m                            Traceback (most recent call last)",
      "\u001b[1;32mc:\\Users\\HP\\Documents\\datasciencepy\\datacience\\news_bot.ipynb Cell 6\u001b[0m in \u001b[0;36m<cell line: 1>\u001b[1;34m()\u001b[0m\n\u001b[0;32m      <a href='vscode-notebook-cell:/c%3A/Users/HP/Documents/datasciencepy/datacience/news_bot.ipynb#W5sZmlsZQ%3D%3D?line=0'>1</a>\u001b[0m \u001b[39mfor\u001b[39;00m news \u001b[39min\u001b[39;00m newslist:\n\u001b[0;32m      <a href='vscode-notebook-cell:/c%3A/Users/HP/Documents/datasciencepy/datacience/news_bot.ipynb#W5sZmlsZQ%3D%3D?line=1'>2</a>\u001b[0m     title\u001b[39m=\u001b[39mnews\u001b[39m.\u001b[39mfind(\u001b[39m\"\u001b[39m\u001b[39mh2\u001b[39m\u001b[39m\"\u001b[39m,attrs\u001b[39m=\u001b[39m{\u001b[39m\"\u001b[39m\u001b[39mclass\u001b[39m\u001b[39m\"\u001b[39m:\u001b[39m\"\u001b[39m\u001b[39mnewsHdng\u001b[39m\u001b[39m\"\u001b[39m})\n\u001b[1;32m----> <a href='vscode-notebook-cell:/c%3A/Users/HP/Documents/datasciencepy/datacience/news_bot.ipynb#W5sZmlsZQ%3D%3D?line=3'>4</a>\u001b[0m     \u001b[39mprint\u001b[39m(title\u001b[39m.\u001b[39;49mtext)\n",
      "\u001b[1;31mAttributeError\u001b[0m: 'NoneType' object has no attribute 'text'"
     ]
    }
   ],
   "source": [
    "for news in newslist:\n",
    "    title=news.find(\"h2\",attrs={\"class\":\"newsHdng\"})\n",
    "    \n",
    "    print(title.text)"
   ]
  },
  {
   "cell_type": "code",
   "execution_count": null,
   "metadata": {},
   "outputs": [
    {
     "name": "stdout",
     "output_type": "stream",
     "text": [
      "Queen Elizabeth Updates: Charles To Be Proclaimed King Today\n",
      "Australia vs New Zealand: Marcus Stoinis, David Warner Out Of 3rd ODI\n",
      "\"Will Be Five Kilos Less\": On Virat Kohli's Ton, Ex-India Coach Ravi Shastri's Out Of The Box Take\n",
      "\"Maharani Elizabeth ko...\": British Envoy Mourns Queen's Death In Hindi\n",
      "How Shilpa Shetty Wished Birthday To Husband Raj Kundra\n",
      "Assam Chief Minister's Rahul Gandhi Cartoon Gets A Counter From 2010\n",
      "JEECUP 2022 Counselling: Round 1 Seat Allotment Result Today; Details Here\n",
      "Queen Elizabeth To Remain On Canadian Currency \"For Years To Come\"\n",
      "Deepening Tokyo Olympics Bribery Scandal Casts Shadow Over 2030 Bid\n",
      "India Logs 5,554 New COVID-19 Cases Today, Active Cases Decline To 48,850\n",
      "Charles To Be Proclaimed King Today After Vowing \"Lifelong Service\"\n",
      "\"T20 Cricket Needs To Explore...\": Ex-India Batter On Toss Playing Crucial Role in Asia Cup\n",
      "World Suicide Prevention Day 2022: Theme, Significance, How To Identify If Someone Is Suicidal & What Can You Do\n",
      "CUET UG 2022 Answer Key: Last Date To Raise Objections Today At Cuet.samarth.ac.in\n",
      "\"King Is Back, They're Saying. But...\": Chennai Super Kings' Tweet On Virat Kohli's Ton Goes Viral\n"
     ]
    }
   ],
   "source": [
    "for news in newslist:\n",
    "   \n",
    "    title=news.find(\"h2\",attrs={\"class\":\"newsHdng\"})\n",
    "    if title:\n",
    "     print(title.text)"
   ]
  },
  {
   "cell_type": "code",
   "execution_count": 7,
   "metadata": {},
   "outputs": [
    {
     "name": "stdout",
     "output_type": "stream",
     "text": [
      "headlines:\n",
      "US Open: \"No Regrets\" As Ons Jabeur Targets World Top Spot\n",
      "Agence France-Presse   | Sunday September 11, 2022\n",
      "Ons Jabeur insisted she had \"no regrets\" after losing to Iga Swiatek in the US Open final as she targeted the Pole's world number one ranking next year.\n",
      "headlines:\n",
      "India Has 100 Unicorns With A Value At $250 Billion: Nirmala Sitharaman\n",
      "Press Trust of India   | Sunday September 11, 2022, Chennai\n",
      "India was home for over one hundred unicorns with a total value of USD 250 billion which have managed to raise over USD 63 billion in the last few years, Union Finance and Corporate Affairs Minister Nirmala Sitharaman said here on Saturday.\n",
      "headlines:\n",
      "Australia vs New Zealand, 3rd ODI Live Score Updates: New Zealand Opt To Bowl In Aaron Finch's Final ODI\n",
      "NDTV Sports Desk   | Sunday September 11, 2022\n",
      "Australia vs New Zealand, 3rd ODI Live: Eyes on Aaron Finch as he plays his final ODI\n",
      "headlines:\n",
      "Real Madrid vs Mallorca, La Liga: When And Where To Watch Live Telecast, Live Streaming\n",
      "NDTV Sports Desk   | Sunday September 11, 2022\n",
      "Real Madrid will be hosting Mallorca on Sunday in the ongoing La Liga 2022-23 season at Santiago Bernabeu and they will look to reclaim the top spot in the standings.\n",
      "headlines:\n",
      "JEE Advanced 2022 Result Today; Know Last Year’s Cut-Off\n",
      "Written by Adarsh Srivastava  | Sunday September 11, 2022\n",
      "JEE Advanced 2022: Last year the JEE Advanced cut-off for Common rank list (CRL) was 63 marks while for the General-Economic weaker section (GEN-EWS) the cut-off marks was 56\n",
      "headlines:\n",
      "Carlos Alcaraz vs Casper Ruud, US Open Men's Singles Final: When And Where To Watch Live Telecast, Live Streaming\n",
      "NDTV Sports Desk   | Sunday September 11, 2022\n",
      "US Open Final: Carlos Alcaraz and Casper Ruud will battle it out for the US Open title and the world number one ranking\n",
      "headlines:\n",
      "Mastermind Of China-Linked Shell Companies Arrested While Fleeing India\n",
      "Asian News International   | Sunday September 11, 2022, New Delhi\n",
      "The government has arrested one individual named Dortse having links with China and is responsible for the whole racket of incorporating a large number of shell companies in India and appointing dummy Directors on their Boards.\n",
      "headlines:\n",
      "CUET UG 2022 Re-Test Today; Important Exam Day Guidelines To Follow\n",
      "Written by Arnab Mitra  | Sunday September 11, 2022\n",
      "CUET UG 2022: The re-exam will be held for students who missed the exam due to technical glitches, other factors. The students have been informed about their exam city, centres on their registered mail id.\n",
      "headlines:\n",
      "Watch: Sachin Tendulkar Turns Back Clock As He Plays Lofted Shot During Road Safety World Series\n",
      "NDTV Sports Desk   | Sunday September 11, 2022\n",
      "Fans were in for an ultimate treat as Sachin Tendulkar once again stepped out to the field to lead India Legends in the ongoing Road Safety World Series.\n",
      "headlines:\n",
      "Stung By Exits, Congress Tweaks Internal Poll Rules After 5 MPs' Letter\n",
      "Reported by Sunil Prabhu, Edited by Saikat Kumar Bose  | Sunday September 11, 2022, New Delhi\n",
      "Ahead of the crucial election for the next Congress president, the party leadership has agreed to make a significant change to the polling process following a demand by a section of senior leaders.\n",
      "headlines:\n",
      "National Flags Fly At Half-Mast As India Mourns Queen Elizabeth II's Death\n",
      "Asian News International   | Sunday September 11, 2022, New Delhi\n",
      "As India observes one-day state mourning as a mark of respect to Britain's Queen Elizabeth II, who died on September 8, the national flags at all government buildings including Red Fort and Rashtrapati Bhavan fly at half-mast on Sunday.\n",
      "headlines:\n",
      "\"Rishabh And DK Need To Play\": Cheteshwar Pujara On India's Team For T20 World Cup\n",
      "Abhimanyu Bose   | Sunday September 11, 2022\n",
      "While there has been a raging debate about who should play for India between Rishabh Pant and Dinesh Karthik in the T20I team, Cheteshwar Pujara said that ideally both wicketkeepers should make the playing XI come the 2022 T20 World Cup in Australia.\n",
      "headlines:\n",
      "Sri Lanka vs Pakistan, Asia Cup Final: When And Where To Watch Live Telecast, Live Streaming\n",
      "NDTV Sports Desk   | Sunday September 11, 2022\n",
      "SL vs PAK, Asia Cup Final: Sri Lanka and Pakistan would be squaring off in the final of Asia Cup on Sunday evening at the Dubai International Stadium.\n",
      "headlines:\n",
      "Queen's Coffin Procession To Wind Through Scotland\n",
      "Agence France-Presse   | Sunday September 11, 2022\n",
      "Queen Elizabeth II's coffin will travel by road through Scottish towns and villages on Sunday as it begins its final journey from her beloved Scottish retreat of Balmoral.\n",
      "headlines:\n",
      "CUET PG 2022 Day 10 Exam Today; Important Checklist For Candidates\n",
      "Edited by Arpita Das  | Sunday September 11, 2022\n",
      "CUET PG 2022: The first shift of the CUET PG 2022 will begin at 10 am, and the second shift at 3 pm. Important exam day guidelines to follow\n"
     ]
    }
   ],
   "source": [
    " for news in newslist:\n",
    "  title=news.find(\"h2\",attrs={\"class\":\"newsHdng\"})\n",
    "  detail=news.find(\"span\",attrs={\"class\":\"posted-by\"})\n",
    "  cont=news.find(\"p\",attrs={\"class\":\"newsCont\"})\n",
    "  if title and detail and cont:\n",
    "    \n",
    "      print(\"headlines:\")\n",
    "\n",
    "      print(title.text)\n",
    "      print(detail.text.strip()) \n",
    "      print(cont.text.strip())"
   ]
  },
  {
   "cell_type": "code",
   "execution_count": 8,
   "metadata": {},
   "outputs": [],
   "source": [
    "data=[] ## save the content in dictionary\n",
    "for news in newslist:\n",
    "  title=news.find(\"h2\",attrs={\"class\":\"newsHdng\"})\n",
    "  detail=news.find(\"span\",attrs={\"class\":\"posted-by\"})\n",
    "  cont=news.find(\"p\",attrs={\"class\":\"newsCont\"})\n",
    "  if title and detail and cont:\n",
    "    data.append({\n",
    "    \"title\":title.text.strip(),\n",
    "    \"details\":detail.text.strip(),\n",
    "    \"content\":cont.text.strip()\n",
    "    })"
   ]
  },
  {
   "cell_type": "code",
   "execution_count": 9,
   "metadata": {},
   "outputs": [],
   "source": [
    "import pandas as pd"
   ]
  },
  {
   "cell_type": "code",
   "execution_count": 41,
   "metadata": {},
   "outputs": [
    {
     "data": {
      "text/html": [
       "<div>\n",
       "<style scoped>\n",
       "    .dataframe tbody tr th:only-of-type {\n",
       "        vertical-align: middle;\n",
       "    }\n",
       "\n",
       "    .dataframe tbody tr th {\n",
       "        vertical-align: top;\n",
       "    }\n",
       "\n",
       "    .dataframe thead th {\n",
       "        text-align: right;\n",
       "    }\n",
       "</style>\n",
       "<table border=\"1\" class=\"dataframe\">\n",
       "  <thead>\n",
       "    <tr style=\"text-align: right;\">\n",
       "      <th></th>\n",
       "      <th>title</th>\n",
       "      <th>details</th>\n",
       "      <th>content</th>\n",
       "    </tr>\n",
       "  </thead>\n",
       "  <tbody>\n",
       "    <tr>\n",
       "      <th>0</th>\n",
       "      <td>Queen Elizabeth Updates: Charles To Be Proclai...</td>\n",
       "      <td>Edited by NDTV News Desk  | Saturday September...</td>\n",
       "      <td>Britain's Charles III will officially be procl...</td>\n",
       "    </tr>\n",
       "    <tr>\n",
       "      <th>1</th>\n",
       "      <td>Australia vs New Zealand: Marcus Stoinis, Davi...</td>\n",
       "      <td>Agence France-Presse   | Saturday September 10...</td>\n",
       "      <td>Injured all-rounder Marcus Stoinis was Saturda...</td>\n",
       "    </tr>\n",
       "    <tr>\n",
       "      <th>2</th>\n",
       "      <td>\"Will Be Five Kilos Less\": On Virat Kohli's To...</td>\n",
       "      <td>NDTV Sports Desk   | Saturday September 10, 2022</td>\n",
       "      <td>After Virat Kohli's ton on Thursday, former In...</td>\n",
       "    </tr>\n",
       "    <tr>\n",
       "      <th>3</th>\n",
       "      <td>\"Maharani Elizabeth ko...\": British Envoy Mour...</td>\n",
       "      <td>Edited by Supriti David  | Saturday September ...</td>\n",
       "      <td>British High Commissioner to India Alex Ellis ...</td>\n",
       "    </tr>\n",
       "    <tr>\n",
       "      <th>4</th>\n",
       "      <td>How Shilpa Shetty Wished Birthday To Husband R...</td>\n",
       "      <td>Written by Jyothi Jha  | Saturday September 10...</td>\n",
       "      <td>\"I'm thankful that you're my bestest friend, t...</td>\n",
       "    </tr>\n",
       "    <tr>\n",
       "      <th>5</th>\n",
       "      <td>Assam Chief Minister's Rahul Gandhi Cartoon Ge...</td>\n",
       "      <td>Reported by Sunil Prabhu, Edited by Shatabdi C...</td>\n",
       "      <td>The Congress has dug up a 12-year-old tweet of...</td>\n",
       "    </tr>\n",
       "    <tr>\n",
       "      <th>6</th>\n",
       "      <td>JEECUP 2022 Counselling: Round 1 Seat Allotmen...</td>\n",
       "      <td>Edited by Arnab Mitra  | Saturday September 10...</td>\n",
       "      <td>JEECUP 2022 Counselling: The candidates can se...</td>\n",
       "    </tr>\n",
       "    <tr>\n",
       "      <th>7</th>\n",
       "      <td>Queen Elizabeth To Remain On Canadian Currency...</td>\n",
       "      <td>By Stephen Wicary, Bloomberg   | Saturday Sept...</td>\n",
       "      <td>Canada, a former British colony, has a new hea...</td>\n",
       "    </tr>\n",
       "    <tr>\n",
       "      <th>8</th>\n",
       "      <td>Deepening Tokyo Olympics Bribery Scandal Casts...</td>\n",
       "      <td>Agence France-Presse   | Saturday September 10...</td>\n",
       "      <td>A bribery scandal engulfing last summer's pand...</td>\n",
       "    </tr>\n",
       "    <tr>\n",
       "      <th>9</th>\n",
       "      <td>India Logs 5,554 New COVID-19 Cases Today, Act...</td>\n",
       "      <td>Press Trust of India   | Saturday September 10...</td>\n",
       "      <td>India logged 5,554 new coronavirus infections ...</td>\n",
       "    </tr>\n",
       "    <tr>\n",
       "      <th>10</th>\n",
       "      <td>Charles To Be Proclaimed King Today After Vowi...</td>\n",
       "      <td>Agence France-Presse   | Saturday September 10...</td>\n",
       "      <td>Britain's Charles III will officially be procl...</td>\n",
       "    </tr>\n",
       "    <tr>\n",
       "      <th>11</th>\n",
       "      <td>\"T20 Cricket Needs To Explore...\": Ex-India Ba...</td>\n",
       "      <td>NDTV Sports Desk   | Saturday September 10, 2022</td>\n",
       "      <td>Sanjay Manjrekar has now highlighted how toss ...</td>\n",
       "    </tr>\n",
       "    <tr>\n",
       "      <th>12</th>\n",
       "      <td>World Suicide Prevention Day 2022: Theme, Sign...</td>\n",
       "      <td>Manya Singh   | Saturday September 10, 2022</td>\n",
       "      <td>World Suicide Prevention Day 2022: WSPD is cel...</td>\n",
       "    </tr>\n",
       "    <tr>\n",
       "      <th>13</th>\n",
       "      <td>CUET UG 2022 Answer Key: Last Date To Raise Ob...</td>\n",
       "      <td>Edited by Arnab Mitra  | Saturday September 10...</td>\n",
       "      <td>CUET UG 2022 Answer Key: The CUET UG 2022 answ...</td>\n",
       "    </tr>\n",
       "    <tr>\n",
       "      <th>14</th>\n",
       "      <td>\"King Is Back, They're Saying. But...\": Chenna...</td>\n",
       "      <td>NDTV Sports Desk   | Saturday September 10, 2022</td>\n",
       "      <td>Chennai Super Kings also paid a special tribut...</td>\n",
       "    </tr>\n",
       "  </tbody>\n",
       "</table>\n",
       "</div>"
      ],
      "text/plain": [
       "                                                title  \\\n",
       "0   Queen Elizabeth Updates: Charles To Be Proclai...   \n",
       "1   Australia vs New Zealand: Marcus Stoinis, Davi...   \n",
       "2   \"Will Be Five Kilos Less\": On Virat Kohli's To...   \n",
       "3   \"Maharani Elizabeth ko...\": British Envoy Mour...   \n",
       "4   How Shilpa Shetty Wished Birthday To Husband R...   \n",
       "5   Assam Chief Minister's Rahul Gandhi Cartoon Ge...   \n",
       "6   JEECUP 2022 Counselling: Round 1 Seat Allotmen...   \n",
       "7   Queen Elizabeth To Remain On Canadian Currency...   \n",
       "8   Deepening Tokyo Olympics Bribery Scandal Casts...   \n",
       "9   India Logs 5,554 New COVID-19 Cases Today, Act...   \n",
       "10  Charles To Be Proclaimed King Today After Vowi...   \n",
       "11  \"T20 Cricket Needs To Explore...\": Ex-India Ba...   \n",
       "12  World Suicide Prevention Day 2022: Theme, Sign...   \n",
       "13  CUET UG 2022 Answer Key: Last Date To Raise Ob...   \n",
       "14  \"King Is Back, They're Saying. But...\": Chenna...   \n",
       "\n",
       "                                              details  \\\n",
       "0   Edited by NDTV News Desk  | Saturday September...   \n",
       "1   Agence France-Presse   | Saturday September 10...   \n",
       "2    NDTV Sports Desk   | Saturday September 10, 2022   \n",
       "3   Edited by Supriti David  | Saturday September ...   \n",
       "4   Written by Jyothi Jha  | Saturday September 10...   \n",
       "5   Reported by Sunil Prabhu, Edited by Shatabdi C...   \n",
       "6   Edited by Arnab Mitra  | Saturday September 10...   \n",
       "7   By Stephen Wicary, Bloomberg   | Saturday Sept...   \n",
       "8   Agence France-Presse   | Saturday September 10...   \n",
       "9   Press Trust of India   | Saturday September 10...   \n",
       "10  Agence France-Presse   | Saturday September 10...   \n",
       "11   NDTV Sports Desk   | Saturday September 10, 2022   \n",
       "12        Manya Singh   | Saturday September 10, 2022   \n",
       "13  Edited by Arnab Mitra  | Saturday September 10...   \n",
       "14   NDTV Sports Desk   | Saturday September 10, 2022   \n",
       "\n",
       "                                              content  \n",
       "0   Britain's Charles III will officially be procl...  \n",
       "1   Injured all-rounder Marcus Stoinis was Saturda...  \n",
       "2   After Virat Kohli's ton on Thursday, former In...  \n",
       "3   British High Commissioner to India Alex Ellis ...  \n",
       "4   \"I'm thankful that you're my bestest friend, t...  \n",
       "5   The Congress has dug up a 12-year-old tweet of...  \n",
       "6   JEECUP 2022 Counselling: The candidates can se...  \n",
       "7   Canada, a former British colony, has a new hea...  \n",
       "8   A bribery scandal engulfing last summer's pand...  \n",
       "9   India logged 5,554 new coronavirus infections ...  \n",
       "10  Britain's Charles III will officially be procl...  \n",
       "11  Sanjay Manjrekar has now highlighted how toss ...  \n",
       "12  World Suicide Prevention Day 2022: WSPD is cel...  \n",
       "13  CUET UG 2022 Answer Key: The CUET UG 2022 answ...  \n",
       "14  Chennai Super Kings also paid a special tribut...  "
      ]
     },
     "execution_count": 41,
     "metadata": {},
     "output_type": "execute_result"
    }
   ],
   "source": [
    "pd.DataFrame(data)"
   ]
  },
  {
   "cell_type": "code",
   "execution_count": 10,
   "metadata": {},
   "outputs": [],
   "source": [
    "pd.DataFrame(data).to_csv(\"headlines.csv\")"
   ]
  },
  {
   "cell_type": "code",
   "execution_count": 11,
   "metadata": {},
   "outputs": [],
   "source": [
    "def get_soup(url):\n",
    "    page=requests.get(url)\n",
    "    return BeautifulSoup(page.text)\n"
   ]
  },
  {
   "cell_type": "code",
   "execution_count": 18,
   "metadata": {},
   "outputs": [],
   "source": [
    "soup=get_soup(\"https://www.python.org/jobs/\")\n"
   ]
  },
  {
   "cell_type": "code",
   "execution_count": 19,
   "metadata": {},
   "outputs": [],
   "source": [
    "target=soup.find(\"h2\",attrs={\"class\":\"listing-company\"})\n"
   ]
  },
  {
   "cell_type": "code",
   "execution_count": 20,
   "metadata": {},
   "outputs": [
    {
     "name": "stdout",
     "output_type": "stream",
     "text": [
      "6\n"
     ]
    }
   ],
   "source": [
    "lists=target.find(\"span\",attrs={\"class\":\"listing-company-name\"})\n",
    "print(len(lists))"
   ]
  },
  {
   "cell_type": "code",
   "execution_count": 23,
   "metadata": {},
   "outputs": [
    {
     "ename": "TypeError",
     "evalue": "find() takes no keyword arguments",
     "output_type": "error",
     "traceback": [
      "\u001b[1;31m---------------------------------------------------------------------------\u001b[0m",
      "\u001b[1;31mTypeError\u001b[0m                                 Traceback (most recent call last)",
      "\u001b[1;32mc:\\Users\\HP\\Documents\\datasciencepy\\datacience\\news_bot.ipynb Cell 17\u001b[0m in \u001b[0;36m<cell line: 1>\u001b[1;34m()\u001b[0m\n\u001b[0;32m      <a href='vscode-notebook-cell:/c%3A/Users/HP/Documents/datasciencepy/datacience/news_bot.ipynb#X22sZmlsZQ%3D%3D?line=0'>1</a>\u001b[0m \u001b[39mfor\u001b[39;00m a \u001b[39min\u001b[39;00m lists:\n\u001b[1;32m----> <a href='vscode-notebook-cell:/c%3A/Users/HP/Documents/datasciencepy/datacience/news_bot.ipynb#X22sZmlsZQ%3D%3D?line=1'>2</a>\u001b[0m     cn\u001b[39m=\u001b[39ma\u001b[39m.\u001b[39;49mfind(\u001b[39m\"\u001b[39;49m\u001b[39mspan\u001b[39;49m\u001b[39m\"\u001b[39;49m,attrs\u001b[39m=\u001b[39;49m{\u001b[39m\"\u001b[39;49m\u001b[39mclass\u001b[39;49m\u001b[39m\"\u001b[39;49m:\u001b[39m\"\u001b[39;49m\u001b[39mlisting-location\u001b[39;49m\u001b[39m\"\u001b[39;49m})\n",
      "\u001b[1;31mTypeError\u001b[0m: find() takes no keyword arguments"
     ]
    }
   ],
   "source": [
    "for a in lists:\n",
    "    class=a.find(\"span\",attrs={\"class\":\"listing-location\"})\n",
    "    \n"
   ]
  },
  {
   "cell_type": "code",
   "execution_count": null,
   "metadata": {},
   "outputs": [],
   "source": []
  },
  {
   "cell_type": "code",
   "execution_count": null,
   "metadata": {},
   "outputs": [],
   "source": []
  }
 ],
 "metadata": {
  "kernelspec": {
   "display_name": "Python 3.9.12 ('base')",
   "language": "python",
   "name": "python3"
  },
  "language_info": {
   "codemirror_mode": {
    "name": "ipython",
    "version": 3
   },
   "file_extension": ".py",
   "mimetype": "text/x-python",
   "name": "python",
   "nbconvert_exporter": "python",
   "pygments_lexer": "ipython3",
   "version": "3.9.12"
  },
  "orig_nbformat": 4,
  "vscode": {
   "interpreter": {
    "hash": "5b6002d1e928962cd19dde4287e8a81266a3dfa22c12012df96bb19a6e27b9c0"
   }
  }
 },
 "nbformat": 4,
 "nbformat_minor": 2
}
