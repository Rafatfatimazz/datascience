{
 "cells": [
  {
   "cell_type": "markdown",
   "metadata": {},
   "source": [
    "clearing data aka processingm"
   ]
  },
  {
   "cell_type": "code",
   "execution_count": 59,
   "metadata": {},
   "outputs": [],
   "source": [
    "import pandas as pd\n",
    "import numpy as np\n",
    "import matplotlib.pyplot\n",
    "import os"
   ]
  },
  {
   "cell_type": "code",
   "execution_count": 60,
   "metadata": {},
   "outputs": [
    {
     "name": "stdout",
     "output_type": "stream",
     "text": [
      "<class 'pandas.core.frame.DataFrame'>\n",
      "Int64Index: 528 entries, 0 to 527\n",
      "Data columns (total 3 columns):\n",
      " #   Column  Non-Null Count  Dtype \n",
      "---  ------  --------------  ----- \n",
      " 0   title   528 non-null    object\n",
      " 1   price   528 non-null    object\n",
      " 2   link    528 non-null    object\n",
      "dtypes: object(3)\n",
      "memory usage: 16.5+ KB\n",
      "None\n"
     ]
    }
   ],
   "source": [
    "filepath=\"laptop_data.csv\"\n",
    "if not os.path.exists(filepath):\n",
    "    print(\"file not found\")\n",
    "else:\n",
    "    df=pd.read_csv(filepath,index_col=0) \n",
    "    print(df.info())   \n"
   ]
  },
  {
   "cell_type": "code",
   "execution_count": 61,
   "metadata": {},
   "outputs": [
    {
     "data": {
      "text/html": [
       "<div>\n",
       "<style scoped>\n",
       "    .dataframe tbody tr th:only-of-type {\n",
       "        vertical-align: middle;\n",
       "    }\n",
       "\n",
       "    .dataframe tbody tr th {\n",
       "        vertical-align: top;\n",
       "    }\n",
       "\n",
       "    .dataframe thead th {\n",
       "        text-align: right;\n",
       "    }\n",
       "</style>\n",
       "<table border=\"1\" class=\"dataframe\">\n",
       "  <thead>\n",
       "    <tr style=\"text-align: right;\">\n",
       "      <th></th>\n",
       "      <th>title</th>\n",
       "      <th>price</th>\n",
       "      <th>link</th>\n",
       "    </tr>\n",
       "  </thead>\n",
       "  <tbody>\n",
       "    <tr>\n",
       "      <th>0</th>\n",
       "      <td>MSI Core i9 12th Gen - (32 GB/2 TB SSD/Windows...</td>\n",
       "      <td>₹3,90,990</td>\n",
       "      <td>/msi-core-i9-12th-gen-32-gb-2-tb-ssd-windows-1...</td>\n",
       "    </tr>\n",
       "    <tr>\n",
       "      <th>1</th>\n",
       "      <td>Lenovo Ideapad Gaming 3 Ryzen 5 Hexa Core 5600...</td>\n",
       "      <td>₹59,990</td>\n",
       "      <td>/lenovo-ideapad-gaming-3-ryzen-5-hexa-core-560...</td>\n",
       "    </tr>\n",
       "    <tr>\n",
       "      <th>2</th>\n",
       "      <td>ASUS Vivobook 15 Core i3 10th Gen - (8 GB/256 ...</td>\n",
       "      <td>₹27,990</td>\n",
       "      <td>/asus-vivobook-15-core-i3-10th-gen-8-gb-256-gb...</td>\n",
       "    </tr>\n",
       "    <tr>\n",
       "      <th>3</th>\n",
       "      <td>MSI Modern 14 Ryzen 5 Hexa Core 5500U - (8 GB/...</td>\n",
       "      <td>₹39,990</td>\n",
       "      <td>/msi-modern-14-ryzen-5-hexa-core-5500u-8-gb-51...</td>\n",
       "    </tr>\n",
       "    <tr>\n",
       "      <th>4</th>\n",
       "      <td>Lenovo IdeaPad 3 Ryzen 5 Hexa Core 5500U - (8 ...</td>\n",
       "      <td>₹48,990</td>\n",
       "      <td>/lenovo-ideapad-3-ryzen-5-hexa-core-5500u-8-gb...</td>\n",
       "    </tr>\n",
       "    <tr>\n",
       "      <th>...</th>\n",
       "      <td>...</td>\n",
       "      <td>...</td>\n",
       "      <td>...</td>\n",
       "    </tr>\n",
       "    <tr>\n",
       "      <th>523</th>\n",
       "      <td>Lenovo Ideapad Gaming 3 Ryzen 5 Hexa Core 5600...</td>\n",
       "      <td>₹59,990</td>\n",
       "      <td>/lenovo-ideapad-gaming-3-ryzen-5-hexa-core-560...</td>\n",
       "    </tr>\n",
       "    <tr>\n",
       "      <th>524</th>\n",
       "      <td>ASUS Ryzen 5 Hexa Core - (8 GB/512 GB SSD/Wind...</td>\n",
       "      <td>₹55,600</td>\n",
       "      <td>/asus-ryzen-5-hexa-core-8-gb-512-gb-ssd-window...</td>\n",
       "    </tr>\n",
       "    <tr>\n",
       "      <th>525</th>\n",
       "      <td>LG Gram Core i5 11th Gen - (8 GB/256 GB SSD/Wi...</td>\n",
       "      <td>₹76,990</td>\n",
       "      <td>/lg-gram-core-i5-11th-gen-8-gb-256-gb-ssd-wind...</td>\n",
       "    </tr>\n",
       "    <tr>\n",
       "      <th>526</th>\n",
       "      <td>ASUS ROG Zephyrus G15 (2022) with 90Whr Batter...</td>\n",
       "      <td>₹2,07,990</td>\n",
       "      <td>/asus-rog-zephyrus-g15-2022-90whr-battery-ryze...</td>\n",
       "    </tr>\n",
       "    <tr>\n",
       "      <th>527</th>\n",
       "      <td>MSI Crosshair 15 Core i7 12th Gen - (16 GB/1 T...</td>\n",
       "      <td>₹1,16,990</td>\n",
       "      <td>/msi-crosshair-15-core-i7-12th-gen-16-gb-1-tb-...</td>\n",
       "    </tr>\n",
       "  </tbody>\n",
       "</table>\n",
       "<p>528 rows × 3 columns</p>\n",
       "</div>"
      ],
      "text/plain": [
       "                                                 title      price  \\\n",
       "0    MSI Core i9 12th Gen - (32 GB/2 TB SSD/Windows...  ₹3,90,990   \n",
       "1    Lenovo Ideapad Gaming 3 Ryzen 5 Hexa Core 5600...    ₹59,990   \n",
       "2    ASUS Vivobook 15 Core i3 10th Gen - (8 GB/256 ...    ₹27,990   \n",
       "3    MSI Modern 14 Ryzen 5 Hexa Core 5500U - (8 GB/...    ₹39,990   \n",
       "4    Lenovo IdeaPad 3 Ryzen 5 Hexa Core 5500U - (8 ...    ₹48,990   \n",
       "..                                                 ...        ...   \n",
       "523  Lenovo Ideapad Gaming 3 Ryzen 5 Hexa Core 5600...    ₹59,990   \n",
       "524  ASUS Ryzen 5 Hexa Core - (8 GB/512 GB SSD/Wind...    ₹55,600   \n",
       "525  LG Gram Core i5 11th Gen - (8 GB/256 GB SSD/Wi...    ₹76,990   \n",
       "526  ASUS ROG Zephyrus G15 (2022) with 90Whr Batter...  ₹2,07,990   \n",
       "527  MSI Crosshair 15 Core i7 12th Gen - (16 GB/1 T...  ₹1,16,990   \n",
       "\n",
       "                                                  link  \n",
       "0    /msi-core-i9-12th-gen-32-gb-2-tb-ssd-windows-1...  \n",
       "1    /lenovo-ideapad-gaming-3-ryzen-5-hexa-core-560...  \n",
       "2    /asus-vivobook-15-core-i3-10th-gen-8-gb-256-gb...  \n",
       "3    /msi-modern-14-ryzen-5-hexa-core-5500u-8-gb-51...  \n",
       "4    /lenovo-ideapad-3-ryzen-5-hexa-core-5500u-8-gb...  \n",
       "..                                                 ...  \n",
       "523  /lenovo-ideapad-gaming-3-ryzen-5-hexa-core-560...  \n",
       "524  /asus-ryzen-5-hexa-core-8-gb-512-gb-ssd-window...  \n",
       "525  /lg-gram-core-i5-11th-gen-8-gb-256-gb-ssd-wind...  \n",
       "526  /asus-rog-zephyrus-g15-2022-90whr-battery-ryze...  \n",
       "527  /msi-crosshair-15-core-i7-12th-gen-16-gb-1-tb-...  \n",
       "\n",
       "[528 rows x 3 columns]"
      ]
     },
     "execution_count": 61,
     "metadata": {},
     "output_type": "execute_result"
    }
   ],
   "source": [
    "   df     "
   ]
  },
  {
   "cell_type": "code",
   "execution_count": 62,
   "metadata": {},
   "outputs": [
    {
     "data": {
      "text/plain": [
       "0"
      ]
     },
     "execution_count": 62,
     "metadata": {},
     "output_type": "execute_result"
    }
   ],
   "source": [
    "df.duplicated().sum()"
   ]
  },
  {
   "cell_type": "code",
   "execution_count": 63,
   "metadata": {},
   "outputs": [
    {
     "data": {
      "text/plain": [
       "<bound method NDFrame._add_numeric_operations.<locals>.sum of 0      False\n",
       "1      False\n",
       "2      False\n",
       "3      False\n",
       "4      False\n",
       "       ...  \n",
       "523     True\n",
       "524    False\n",
       "525    False\n",
       "526     True\n",
       "527     True\n",
       "Name: title, Length: 528, dtype: bool>"
      ]
     },
     "execution_count": 63,
     "metadata": {},
     "output_type": "execute_result"
    }
   ],
   "source": [
    "df[\"title\"].duplicated().sum ## check duplucate values and list them"
   ]
  },
  {
   "cell_type": "markdown",
   "metadata": {},
   "source": [
    "## lambda exxpression:\n",
    "\n",
    "f=lambda x:x*2\n",
    "f(5)\n",
    "f(230)\n",
    "f(.5)\n",
    "\n",
    "OR\n",
    "\n",
    "f(x)=x*2\n",
    "\n"
   ]
  },
  {
   "cell_type": "code",
   "execution_count": 64,
   "metadata": {},
   "outputs": [
    {
     "name": "stdout",
     "output_type": "stream",
     "text": [
      "16\n",
      "11\n"
     ]
    }
   ],
   "source": [
    "#we have to clean price and make it a number\n",
    "f= lambda i:i*4\n",
    "print(f(4))\n",
    "\n",
    "g=lambda x,y:x+y**2\n",
    "print(g(2,3))"
   ]
  },
  {
   "cell_type": "code",
   "execution_count": 65,
   "metadata": {},
   "outputs": [],
   "source": [
    "##for row in df.interrows():\n",
    "\n",
    "    #print(row)\n",
    "#appl()  mehod ,applymap() function on series or in datafarames   \n"
   ]
  },
  {
   "cell_type": "code",
   "execution_count": 66,
   "metadata": {},
   "outputs": [
    {
     "data": {
      "text/plain": [
       "0      ₹3,90,990\n",
       "1        ₹59,990\n",
       "2        ₹27,990\n",
       "3        ₹39,990\n",
       "4        ₹48,990\n",
       "         ...    \n",
       "523      ₹59,990\n",
       "524      ₹55,600\n",
       "525      ₹76,990\n",
       "526    ₹2,07,990\n",
       "527    ₹1,16,990\n",
       "Name: price, Length: 528, dtype: object"
      ]
     },
     "execution_count": 66,
     "metadata": {},
     "output_type": "execute_result"
    }
   ],
   "source": [
    "df[\"price\"].apply(lambda val:val)"
   ]
  },
  {
   "cell_type": "code",
   "execution_count": 67,
   "metadata": {},
   "outputs": [
    {
     "data": {
      "text/plain": [
       "'3,90,990'"
      ]
     },
     "execution_count": 67,
     "metadata": {},
     "output_type": "execute_result"
    }
   ],
   "source": [
    "\"₹3,90,990\"[1:]"
   ]
  },
  {
   "cell_type": "code",
   "execution_count": 68,
   "metadata": {},
   "outputs": [
    {
     "data": {
      "text/plain": [
       "390990"
      ]
     },
     "execution_count": 68,
     "metadata": {},
     "output_type": "execute_result"
    }
   ],
   "source": [
    "int(\"₹3,90,990\"[1:].replace(\",\",\"\"))"
   ]
  },
  {
   "cell_type": "code",
   "execution_count": 69,
   "metadata": {},
   "outputs": [
    {
     "data": {
      "text/plain": [
       "0      390990\n",
       "1       59990\n",
       "2       27990\n",
       "3       39990\n",
       "4       48990\n",
       "        ...  \n",
       "523     59990\n",
       "524     55600\n",
       "525     76990\n",
       "526    207990\n",
       "527    116990\n",
       "Name: price, Length: 528, dtype: object"
      ]
     },
     "execution_count": 69,
     "metadata": {},
     "output_type": "execute_result"
    }
   ],
   "source": [
    "df[\"price\"].apply(lambda val:val[1:].replace(\",\",\"\")) ##when notebook gives ans it means that data is not saved"
   ]
  },
  {
   "cell_type": "code",
   "execution_count": 81,
   "metadata": {},
   "outputs": [],
   "source": [
    "df[\"price_clean\"]=df[\"price\"].apply(lambda val:int(val[1:].replace(\",\",\"\")))"
   ]
  },
  {
   "cell_type": "code",
   "execution_count": 71,
   "metadata": {},
   "outputs": [
    {
     "data": {
      "text/plain": [
       "Index(['title', 'price', 'link', 'price_clean'], dtype='object')"
      ]
     },
     "execution_count": 71,
     "metadata": {},
     "output_type": "execute_result"
    }
   ],
   "source": [
    "df.columns"
   ]
  },
  {
   "cell_type": "code",
   "execution_count": 72,
   "metadata": {},
   "outputs": [],
   "source": [
    "df.sort_values(by=\"price_clean\",ascending=False,inplace=True) ## inplace updates the data"
   ]
  },
  {
   "cell_type": "code",
   "execution_count": 73,
   "metadata": {},
   "outputs": [],
   "source": [
    "def clean_title(title):\n",
    "   return title.split(\"-\")[0].strip(),title.split(\"-\")[1].strip()\n",
    "df[[\"name\",\"configuration\"]]=df[\"title\"].apply(clean_title).apply(pd.Series)\n"
   ]
  },
  {
   "cell_type": "code",
   "execution_count": 74,
   "metadata": {},
   "outputs": [],
   "source": [
    "def get_brand(name):\n",
    "    return name.split()[0]\n",
    "df[\"brand\"]=df[\"name\"].apply(get_brand)    "
   ]
  },
  {
   "cell_type": "code",
   "execution_count": 75,
   "metadata": {},
   "outputs": [
    {
     "data": {
      "text/plain": [
       "ASUS         128\n",
       "MSI          127\n",
       "Lenovo        72\n",
       "DELL          58\n",
       "HP            57\n",
       "APPLE         28\n",
       "acer          26\n",
       "Infinix       17\n",
       "LG             4\n",
       "realme         4\n",
       "RedmiBook      2\n",
       "Mi             1\n",
       "Nokia          1\n",
       "SAMSUNG        1\n",
       "Avita          1\n",
       "ALIENWARE      1\n",
       "Name: brand, dtype: int64"
      ]
     },
     "execution_count": 75,
     "metadata": {},
     "output_type": "execute_result"
    }
   ],
   "source": [
    "df[\"brand\"].value_counts()"
   ]
  },
  {
   "cell_type": "code",
   "execution_count": 76,
   "metadata": {},
   "outputs": [
    {
     "data": {
      "text/plain": [
       "<AxesSubplot: title={'center': 'Brand distribution'}>"
      ]
     },
     "execution_count": 76,
     "metadata": {},
     "output_type": "execute_result"
    },
    {
     "data": {
      "image/png": "[encoded data removed]",
      "text/plain": [
       "<Figure size 1800x432 with 1 Axes>"
      ]
     },
     "metadata": {
      "needs_background": "light"
     },
     "output_type": "display_data"
    }
   ],
   "source": [
    "df[\"brand\"].value_counts().plot(kind=\"bar\",title=\"Brand distribution\",figsize=(25,6))"
   ]
  },
  {
   "cell_type": "code",
   "execution_count": 80,
   "metadata": {},
   "outputs": [
    {
     "data": {
      "text/plain": [
       "<bound method DataFrame.info of                                                  title      price  \\\n",
       "250  acer Predator Helios 300 Octa Core i7 10th Gen...    ₹99,990   \n",
       "270  ASUS Zenbook S 13 Ryzen 5 Hexa Core 6600U - (1...    ₹99,990   \n",
       "273  ASUS Zenbook S 13 Ryzen 5 Hexa Core 6600U - (1...    ₹99,990   \n",
       "473  acer Predator Helios 300 Core i7 11th Gen - (1...    ₹99,990   \n",
       "12   ASUS ROG Strix G15 Ryzen 7 Octa Core 4800H - (...    ₹95,990   \n",
       "..                                                 ...        ...   \n",
       "506  DELL Core i7 11th Gen - (16 GB/512 GB SSD/Wind...  ₹1,02,990   \n",
       "484  DELL Core i7 11th Gen - (16 GB/512 GB SSD/Wind...  ₹1,02,990   \n",
       "316  Lenovo Yoga Slim 7 Intel EVO Core i7 11th Gen ...  ₹1,02,990   \n",
       "454  Lenovo Yoga 7 Core i7 11th Gen - (16 GB/512 GB...  ₹1,01,299   \n",
       "341  HP HP ZBook Firefly Core i7 11th Gen - (16 GB/...  ₹1,00,000   \n",
       "\n",
       "                                                  link price_clean  \\\n",
       "250  /acer-predator-helios-300-octa-core-i7-10th-ge...       99990   \n",
       "270  /asus-zenbook-s-13-ryzen-5-hexa-core-6600u-16-...       99990   \n",
       "273  /asus-zenbook-s-13-ryzen-5-hexa-core-6600u-16-...       99990   \n",
       "473  /acer-predator-helios-300-core-i7-11th-gen-16-...       99990   \n",
       "12   /asus-rog-strix-g15-ryzen-7-octa-core-4800h-16...       95990   \n",
       "..                                                 ...         ...   \n",
       "506  /dell-core-i7-11th-gen-16-gb-512-gb-ssd-window...      102990   \n",
       "484  /dell-core-i7-11th-gen-16-gb-512-gb-ssd-window...      102990   \n",
       "316  /lenovo-yoga-slim-7-intel-evo-core-i7-11th-gen...      102990   \n",
       "454  /lenovo-yoga-7-core-i7-11th-gen-16-gb-512-gb-s...      101299   \n",
       "341  /hp-zbook-firefly-core-i7-11th-gen-16-gb-1-tb-...      100000   \n",
       "\n",
       "                                               name  \\\n",
       "250  acer Predator Helios 300 Octa Core i7 10th Gen   \n",
       "270       ASUS Zenbook S 13 Ryzen 5 Hexa Core 6600U   \n",
       "273       ASUS Zenbook S 13 Ryzen 5 Hexa Core 6600U   \n",
       "473       acer Predator Helios 300 Core i7 11th Gen   \n",
       "12       ASUS ROG Strix G15 Ryzen 7 Octa Core 4800H   \n",
       "..                                              ...   \n",
       "506                           DELL Core i7 11th Gen   \n",
       "484                           DELL Core i7 11th Gen   \n",
       "316   Lenovo Yoga Slim 7 Intel EVO Core i7 11th Gen   \n",
       "454                  Lenovo Yoga 7 Core i7 11th Gen   \n",
       "341            HP HP ZBook Firefly Core i7 11th Gen   \n",
       "\n",
       "                                         configuration   brand  \n",
       "250  (16 GB/1 TB HDD/256 GB SSD/Windows 10 Home/6 G...    acer  \n",
       "270        (16 GB/512 GB SSD/Windows 11 Home) UM5302TA    ASUS  \n",
       "273        (16 GB/512 GB SSD/Windows 11 Home) UM5302TA    ASUS  \n",
       "473  (16 GB/1 TB HDD/512 GB SSD/Windows 10 Home/4 G...    acer  \n",
       "12   (16 GB/1 TB SSD/Windows 11 Home/4 GB Graphics/...    ASUS  \n",
       "..                                                 ...     ...  \n",
       "506  (16 GB/512 GB SSD/Windows 11 Home/4 GB Graphic...    DELL  \n",
       "484  (16 GB/512 GB SSD/Windows 11 Home/4 GB Graphic...    DELL  \n",
       "316  (16 GB/1 TB SSD/Windows 10 Home) Yoga Slim 7 1...  Lenovo  \n",
       "454  (16 GB/512 GB SSD/Windows 11 Home) 14ITL5 2 in...  Lenovo  \n",
       "341  (16 GB/1 TB SSD/Windows 10 Home) ZBook Firefly...      HP  \n",
       "\n",
       "[528 rows x 7 columns]>"
      ]
     },
     "execution_count": 80,
     "metadata": {},
     "output_type": "execute_result"
    }
   ],
   "source": [
    "df.info"
   ]
  },
  {
   "cell_type": "code",
   "execution_count": 82,
   "metadata": {},
   "outputs": [
    {
     "data": {
      "text/plain": [
       "<AxesSubplot: title={'center': 'Price Distribution'}>"
      ]
     },
     "execution_count": 82,
     "metadata": {},
     "output_type": "execute_result"
    },
    {
     "data": {
      "image/png": "[encoded data removed]",
      "text/plain": [
       "<Figure size 1080x432 with 1 Axes>"
      ]
     },
     "metadata": {
      "needs_background": "light"
     },
     "output_type": "display_data"
    }
   ],
   "source": [
    "df[\"price_clean\"].plot(kind=\"line\",use_index=False,title=\"Price Distribution\",figsize=(15,6))"
   ]
  },
  {
   "cell_type": "code",
   "execution_count": 83,
   "metadata": {},
   "outputs": [
    {
     "data": {
      "text/plain": [
       "<AxesSubplot: >"
      ]
     },
     "execution_count": 83,
     "metadata": {},
     "output_type": "execute_result"
    },
    {
     "data": {
      "image/png": "[encoded data removed]",
      "text/plain": [
       "<Figure size 432x288 with 1 Axes>"
      ]
     },
     "metadata": {
      "needs_background": "light"
     },
     "output_type": "display_data"
    }
   ],
   "source": [
    "df[\"price_clean\"].plot(kind=\"box\")"
   ]
  },
  {
   "cell_type": "code",
   "execution_count": null,
   "metadata": {},
   "outputs": [],
   "source": []
  }
 ],
 "metadata": {
  "kernelspec": {
   "display_name": "Python 3.9.12 ('base')",
   "language": "python",
   "name": "python3"
  },
  "language_info": {
   "codemirror_mode": {
    "name": "ipython",
    "version": 3
   },
   "file_extension": ".py",
   "mimetype": "text/x-python",
   "name": "python",
   "nbconvert_exporter": "python",
   "pygments_lexer": "ipython3",
   "version": "3.9.12"
  },
  "orig_nbformat": 4,
  "vscode": {
   "interpreter": {
    "hash": "5b6002d1e928962cd19dde4287e8a81266a3dfa22c12012df96bb19a6e27b9c0"
   }
  }
 },
 "nbformat": 4,
 "nbformat_minor": 2
}
