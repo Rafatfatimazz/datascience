{
 "cells": [
  {
   "cell_type": "markdown",
   "metadata": {},
   "source": [
    "## STRINGS\n",
    "✔ strings are the sequence of characters\n",
    "✔ a string is a sequence of unicode characters\n",
    "✔ unicode supports all types of characters approx 16M characters\n",
    "✔ all new languages support uniocode except c programming it supports the ASCII\n",
    "✔ created by enclosing characters inside a \" \"or' 'and \"'   \"' used for multilines"
   ]
  },
  {
   "cell_type": "markdown",
   "metadata": {},
   "source": [
    "✔We can access individual characters using indexing\n",
    "✔indexing may be positive starts from zero and negative starts from -1  \n",
    "✔ both positive and negative indexing supported only in python language"
   ]
  },
  {
   "cell_type": "markdown",
   "metadata": {},
   "source": []
  },
  {
   "cell_type": "code",
   "execution_count": null,
   "metadata": {},
   "outputs": [],
   "source": []
  },
  {
   "cell_type": "code",
   "execution_count": 1,
   "metadata": {},
   "outputs": [
    {
     "name": "stdout",
     "output_type": "stream",
     "text": [
      "f\n"
     ]
    }
   ],
   "source": [
    "list=['R','a','f','a','t']\n",
    "print(list[-3])"
   ]
  },
  {
   "cell_type": "code",
   "execution_count": 2,
   "metadata": {},
   "outputs": [
    {
     "ename": "IndexError",
     "evalue": "list index out of range",
     "output_type": "error",
     "traceback": [
      "\u001b[1;31m---------------------------------------------------------------------------\u001b[0m",
      "\u001b[1;31mIndexError\u001b[0m                                Traceback (most recent call last)",
      "\u001b[1;32mc:\\Users\\HP\\Documents\\datasciencepy\\Strings31.ipynb Cell 4\u001b[0m in \u001b[0;36m<cell line: 2>\u001b[1;34m()\u001b[0m\n\u001b[0;32m      <a href='vscode-notebook-cell:/c%3A/Users/HP/Documents/datasciencepy/Strings31.ipynb#ch0000003?line=0'>1</a>\u001b[0m \u001b[39mlist\u001b[39m\u001b[39m=\u001b[39m[\u001b[39m'\u001b[39m\u001b[39mf\u001b[39m\u001b[39m'\u001b[39m,\u001b[39m'\u001b[39m\u001b[39ma\u001b[39m\u001b[39m'\u001b[39m,\u001b[39m'\u001b[39m\u001b[39mt\u001b[39m\u001b[39m'\u001b[39m,\u001b[39m'\u001b[39m\u001b[39mi\u001b[39m\u001b[39m'\u001b[39m,\u001b[39m'\u001b[39m\u001b[39mm\u001b[39m\u001b[39m'\u001b[39m,\u001b[39m'\u001b[39m\u001b[39ma\u001b[39m\u001b[39m'\u001b[39m]\n\u001b[1;32m----> <a href='vscode-notebook-cell:/c%3A/Users/HP/Documents/datasciencepy/Strings31.ipynb#ch0000003?line=1'>2</a>\u001b[0m \u001b[39mprint\u001b[39m(\u001b[39mlist\u001b[39;49m[\u001b[39m-\u001b[39;49m\u001b[39m10\u001b[39;49m])\n",
      "\u001b[1;31mIndexError\u001b[0m: list index out of range"
     ]
    }
   ],
   "source": [
    "list=['f','a','t','i','m','a']\n",
    "print(list[-10])"
   ]
  },
  {
   "cell_type": "markdown",
   "metadata": {},
   "source": [
    "# when index no is not found then index out of range error will come"
   ]
  },
  {
   "cell_type": "markdown",
   "metadata": {},
   "source": [
    "## SLICE\n",
    "✔ if s is a stirng an expression of the form s[m:n]\n",
    "returns the portion from s strating from m and before n bcs stops at n means it does not include the position n"
   ]
  },
  {
   "cell_type": "code",
   "execution_count": 3,
   "metadata": {},
   "outputs": [
    {
     "name": "stdout",
     "output_type": "stream",
     "text": [
      "TFA\n",
      "RAF\n"
     ]
    }
   ],
   "source": [
    "s='RAFATFATIMAZZ'### index values\n",
    "slice=s[4:7]\n",
    "print(slice)\n",
    "slice1=s[0:3]\n",
    "print(slice1)"
   ]
  },
  {
   "cell_type": "markdown",
   "metadata": {},
   "source": [
    "## If you omit the first index ,the slice starts at the begining of the string\n",
    "## thus [:m] or [0:m] are same it gives the value starts from 0 and end at one position before m\n",
    "we can also give range in negative"
   ]
  },
  {
   "cell_type": "markdown",
   "metadata": {},
   "source": [
    "## if you omit the second index as in s[n:]\n",
    "the slice extends from the first index n through the end of the string\n",
    "this is nice,concise alternative to the more \n",
    "cumbersome s[n:len[s]]"
   ]
  },
  {
   "cell_type": "code",
   "execution_count": 4,
   "metadata": {},
   "outputs": [
    {
     "name": "stdout",
     "output_type": "stream",
     "text": [
      "PODIUM\n",
      "PODIUM\n"
     ]
    }
   ],
   "source": [
    "s='DIGIPODIUM'\n",
    "slice1=s[4:len(s)]\n",
    "print(slice1)\n",
    "slice2=s[4:]\n",
    "print(slice2)"
   ]
  },
  {
   "cell_type": "markdown",
   "metadata": {},
   "source": [
    "## chr()\n",
    "convert integer to string character\n",
    "## ord()\n",
    "convert a chaarcter to integer\n",
    "## len()\n",
    "returns the length of string\n",
    "## str()\n",
    "converts items to string"
   ]
  },
  {
   "cell_type": "code",
   "execution_count": 12,
   "metadata": {},
   "outputs": [
    {
     "name": "stdout",
     "output_type": "stream",
     "text": [
      "A\n",
      "ऽ\n",
      "き\n"
     ]
    }
   ],
   "source": [
    "x=chr(65)\n",
    "print(x)\n",
    "x=chr(2365)\n",
    "print(x)\n",
    "x=chr(12365)\n",
    "print(x)"
   ]
  },
  {
   "cell_type": "markdown",
   "metadata": {},
   "source": [
    "## if you want to install any library just type pip in anaconda prompt and write pip install  and write library name"
   ]
  },
  {
   "cell_type": "markdown",
   "metadata": {},
   "source": [
    "## or we can use install --user library name"
   ]
  },
  {
   "cell_type": "markdown",
   "metadata": {},
   "source": [
    "## want to see the location of lib type pip show libr_name"
   ]
  },
  {
   "cell_type": "markdown",
   "metadata": {},
   "source": [
    "## to uninstall lib type pip uninstall lib name"
   ]
  },
  {
   "cell_type": "markdown",
   "metadata": {},
   "source": [
    "## want to see how many lib I have type pip freeze"
   ]
  },
  {
   "cell_type": "markdown",
   "metadata": {},
   "source": [
    "## to save all the list to a file type pip freeze > requirements.txt"
   ]
  },
  {
   "cell_type": "markdown",
   "metadata": {},
   "source": [
    "## to open the save list type notepad requirements.txt\n"
   ]
  },
  {
   "cell_type": "markdown",
   "metadata": {},
   "source": [
    "## to open the save list type code requirements.txt"
   ]
  },
  {
   "cell_type": "markdown",
   "metadata": {},
   "source": [
    "to make virtual environment we use libraries with different python versions\n",
    "to see how many no of env we have type conda env list\n",
    "## to make env:_\n",
    "conda create -n name python=version -y\n",
    "## example:\n",
    "conda create -n demoenv-y\n",
    "## to activate env:\n",
    "conda activate envname\n",
    "## example:\n",
    "conda activate demoenv"
   ]
  },
  {
   "cell_type": "markdown",
   "metadata": {},
   "source": [
    "## check version\n",
    "python --version"
   ]
  },
  {
   "cell_type": "markdown",
   "metadata": {},
   "source": [
    "## CONCATINATION"
   ]
  },
  {
   "cell_type": "code",
   "execution_count": 1,
   "metadata": {},
   "outputs": [
    {
     "name": "stdout",
     "output_type": "stream",
     "text": [
      "thisisamazing\n"
     ]
    }
   ],
   "source": [
    "w1='this'\n",
    "w2=\"is\"\n",
    "w3=\"amazing\"\n",
    "msg=w1+w2+w3\n",
    "print(msg)"
   ]
  },
  {
   "cell_type": "code",
   "execution_count": 4,
   "metadata": {},
   "outputs": [
    {
     "name": "stdout",
     "output_type": "stream",
     "text": [
      "this is amazing\n"
     ]
    }
   ],
   "source": [
    "w1='this'\n",
    "w2=\"is\"\n",
    "w3=\"amazing\"\n",
    "msg=w1+\" \"+w2+\" \" +w3\n",
    "print(msg)"
   ]
  },
  {
   "cell_type": "markdown",
   "metadata": {},
   "source": [
    "## DUPLICATION"
   ]
  },
  {
   "cell_type": "code",
   "execution_count": 11,
   "metadata": {},
   "outputs": [
    {
     "name": "stdout",
     "output_type": "stream",
     "text": [
      "HELLOHELLOHELLO\n"
     ]
    }
   ],
   "source": [
    "word=\"HELLO\"\n",
    "print(word *3)"
   ]
  },
  {
   "cell_type": "code",
   "execution_count": 7,
   "metadata": {},
   "outputs": [
    {
     "name": "stdout",
     "output_type": "stream",
     "text": [
      "-------------------------\n"
     ]
    }
   ],
   "source": [
    "print(\"-\"*25)"
   ]
  },
  {
   "cell_type": "code",
   "execution_count": 15,
   "metadata": {},
   "outputs": [
    {
     "name": "stdout",
     "output_type": "stream",
     "text": [
      "*\n",
      "**\n",
      "***\n",
      "****\n",
      "*****\n"
     ]
    }
   ],
   "source": [
    "for i in range(1,6):\n",
    "    print(i*\"*\")## duplicate * i times"
   ]
  },
  {
   "cell_type": "code",
   "execution_count": 19,
   "metadata": {},
   "outputs": [
    {
     "name": "stdout",
     "output_type": "stream",
     "text": [
      "******\n",
      "*****\n",
      "****\n",
      "***\n",
      "**\n",
      "*\n"
     ]
    }
   ],
   "source": [
    "for i in range(6,0,-1):\n",
    "    print(i*\"*\")"
   ]
  },
  {
   "cell_type": "markdown",
   "metadata": {},
   "source": [
    "## STRING FUNCTIONS\n",
    "purple cubes after. called functions and methods"
   ]
  },
  {
   "cell_type": "code",
   "execution_count": 20,
   "metadata": {},
   "outputs": [],
   "source": [
    "name=\"Rafat fatimazz\"\n",
    "age=50\n",
    "items=[\"apple\",\"mango\",\"bananana\"]"
   ]
  },
  {
   "cell_type": "code",
   "execution_count": 5,
   "metadata": {},
   "outputs": [],
   "source": [
    "## formating functions\n",
    "msg=\"This Is A message From VERY important person\"\n"
   ]
  },
  {
   "cell_type": "code",
   "execution_count": 6,
   "metadata": {},
   "outputs": [
    {
     "name": "stdout",
     "output_type": "stream",
     "text": [
      "THIS IS A MESSAGE FROM VERY IMPORTANT PERSON\n",
      "this is a message from very important person\n",
      "This Is A Message From Very Important Person\n",
      "This is a message from very important person\n",
      "this is a message from very important person\n",
      "tHIS iS a MESSAGE fROM very IMPORTANT PERSON\n",
      "This Is A message From VERY important person\n"
     ]
    }
   ],
   "source": [
    "print(msg.upper())\n",
    "print(msg.lower())\n",
    "print(msg.title())\n",
    "print(msg.capitalize())\n",
    "print(msg.casefold())\n",
    "print(msg.swapcase())\n",
    "print(msg)"
   ]
  },
  {
   "cell_type": "code",
   "execution_count": 7,
   "metadata": {},
   "outputs": [
    {
     "name": "stdout",
     "output_type": "stream",
     "text": [
      "THIS IS A MESSAGE FROM VERY IMPORTANT PERSON\n"
     ]
    }
   ],
   "source": [
    "msg=msg.upper()\n",
    "print(msg)"
   ]
  },
  {
   "cell_type": "code",
   "execution_count": 8,
   "metadata": {},
   "outputs": [
    {
     "data": {
      "text/plain": [
       "44"
      ]
     },
     "execution_count": 8,
     "metadata": {},
     "output_type": "execute_result"
    }
   ],
   "source": [
    "len(msg)"
   ]
  },
  {
   "cell_type": "code",
   "execution_count": 9,
   "metadata": {},
   "outputs": [
    {
     "name": "stdout",
     "output_type": "stream",
     "text": [
      "THIS IS A MESSAGE FROM VERY IMPORTANT PERSON\n"
     ]
    }
   ],
   "source": [
    "print(msg)"
   ]
  },
  {
   "cell_type": "code",
   "execution_count": 10,
   "metadata": {},
   "outputs": [
    {
     "name": "stdout",
     "output_type": "stream",
     "text": [
      "THIS IS A MESSAGE FROM VERY IMPORTANT PERSON                                    \n"
     ]
    }
   ],
   "source": [
    "print(msg.ljust(80)) ### left justification content at the left"
   ]
  },
  {
   "cell_type": "code",
   "execution_count": 11,
   "metadata": {},
   "outputs": [
    {
     "name": "stdout",
     "output_type": "stream",
     "text": [
      "                                    THIS IS A MESSAGE FROM VERY IMPORTANT PERSON\n"
     ]
    }
   ],
   "source": [
    "print(msg.rjust(80))## content at the right side"
   ]
  },
  {
   "cell_type": "code",
   "execution_count": 13,
   "metadata": {},
   "outputs": [
    {
     "name": "stdout",
     "output_type": "stream",
     "text": [
      "                  THIS IS A MESSAGE FROM VERY IMPORTANT PERSON                  \n"
     ]
    }
   ],
   "source": [
    "print(msg.center(80)) ## centre allignment or content at the centre"
   ]
  },
  {
   "cell_type": "code",
   "execution_count": 8,
   "metadata": {},
   "outputs": [],
   "source": [
    "long_msg=''' \n",
    "visual studio code is the light weight but powrful source code editor which\n",
    "runs on your desktop and is available for windows,mac-os and linux\n",
    "it comes with built in support for various programming languages\n",
    "and now i am using it to study the data science using python'''"
   ]
  },
  {
   "cell_type": "code",
   "execution_count": 35,
   "metadata": {},
   "outputs": [
    {
     "data": {
      "text/plain": [
       "'visual studio code is the light weight but powrful source code editor which\\nruns on your desktop and is available for windows,mac-os and linux\\nit comes with built in support for various programming languages\\nand now i am using it to study the data science using python'"
      ]
     },
     "execution_count": 35,
     "metadata": {},
     "output_type": "execute_result"
    }
   ],
   "source": [
    "long_msg"
   ]
  },
  {
   "cell_type": "code",
   "execution_count": 29,
   "metadata": {},
   "outputs": [
    {
     "name": "stdout",
     "output_type": "stream",
     "text": [
      "                                                                                                                                                      \n",
      "                                     visual studio code is the light weight but powrful source code editor which                                      \n",
      "                                          runs on your desktop and is available for windows,mac-os and linux                                          \n",
      "                                           it comes with built in support for various programming languages                                           \n",
      "                                             and now i am using it to study the data science using python                                             \n"
     ]
    }
   ],
   "source": [
    "for line in long_msg.split('\\n'):\n",
    "    print(line.center(150))"
   ]
  },
  {
   "cell_type": "markdown",
   "metadata": {},
   "source": [
    "### split\n",
    "msg.split(value)\n",
    "value is what from where we want to seperate\n",
    "### maximum split\n",
    "msg.split(maxsplit=6)\n",
    "## rsplit\n",
    "from reverse"
   ]
  },
  {
   "cell_type": "code",
   "execution_count": 26,
   "metadata": {},
   "outputs": [
    {
     "data": {
      "text/plain": [
       "['visual',\n",
       " 'studio',\n",
       " 'code',\n",
       " 'is',\n",
       " 'the',\n",
       " 'light',\n",
       " 'weight but powrful source code editor which\\nruns on your desktop and is available for windows,mac-os and linux\\nit comes with built in support for various programming languages\\nand now i am using it to study the data science using python']"
      ]
     },
     "execution_count": 26,
     "metadata": {},
     "output_type": "execute_result"
    }
   ],
   "source": [
    "long_msg.split(maxsplit=6)"
   ]
  },
  {
   "cell_type": "code",
   "execution_count": 27,
   "metadata": {},
   "outputs": [
    {
     "data": {
      "text/plain": [
       "[' \\nvisual studio code is the light weight but powrful source code editor which\\nruns on your desktop and is available for windows,mac-os and linux\\nit comes with built in support for various programming languages\\nand now i am using it to study the data',\n",
       " 'science',\n",
       " 'using',\n",
       " 'python']"
      ]
     },
     "execution_count": 27,
     "metadata": {},
     "output_type": "execute_result"
    }
   ],
   "source": [
    "long_msg.rsplit(maxsplit=3)"
   ]
  },
  {
   "cell_type": "code",
   "execution_count": 32,
   "metadata": {},
   "outputs": [
    {
     "name": "stdout",
     "output_type": "stream",
     "text": [
      "20       rafatfatima   \n"
     ]
    }
   ],
   "source": [
    "name=input('what is your name?')\n",
    "print(len(name),name)"
   ]
  },
  {
   "cell_type": "markdown",
   "metadata": {},
   "source": [
    "### strip\n",
    "it clears all the extra spaces from start and end"
   ]
  },
  {
   "cell_type": "code",
   "execution_count": 33,
   "metadata": {},
   "outputs": [
    {
     "name": "stdout",
     "output_type": "stream",
     "text": [
      "11 rafatfatima\n"
     ]
    }
   ],
   "source": [
    "name=name.strip()\n",
    "print(len(name),name)"
   ]
  },
  {
   "cell_type": "code",
   "execution_count": 36,
   "metadata": {},
   "outputs": [
    {
     "name": "stdout",
     "output_type": "stream",
     "text": [
      "268\n",
      "268\n"
     ]
    }
   ],
   "source": [
    "print(len(long_msg))\n",
    "long_msg= long_msg.strip()## removed the \\n from start and end\n",
    "print(len(long_msg))"
   ]
  },
  {
   "cell_type": "code",
   "execution_count": 3,
   "metadata": {},
   "outputs": [
    {
     "data": {
      "text/plain": [
       "'rafat'"
      ]
     },
     "execution_count": 3,
     "metadata": {},
     "output_type": "execute_result"
    }
   ],
   "source": [
    "data=\"000000000rafat000000\"\n",
    "data.strip(\"0\")\n"
   ]
  },
  {
   "cell_type": "code",
   "execution_count": 4,
   "metadata": {},
   "outputs": [
    {
     "data": {
      "text/plain": [
       "'this------is---p ython-----program'"
      ]
     },
     "execution_count": 4,
     "metadata": {},
     "output_type": "execute_result"
    }
   ],
   "source": [
    "data=\"--------------this------is---p ython-----program--------\"\n",
    "data.strip(\"-\")"
   ]
  },
  {
   "cell_type": "code",
   "execution_count": 5,
   "metadata": {},
   "outputs": [
    {
     "name": "stdout",
     "output_type": "stream",
     "text": [
      "this------is---p ython-----program\n",
      "this------is---p ython-----program--------\n",
      "--------------this------is---p ython-----program\n"
     ]
    }
   ],
   "source": [
    "print(data.strip(\"-\"))\n",
    "print(data.lstrip(\"-\"))\n",
    "print(data.rstrip(\"-\"))"
   ]
  },
  {
   "cell_type": "code",
   "execution_count": 48,
   "metadata": {},
   "outputs": [
    {
     "name": "stdout",
     "output_type": "stream",
     "text": [
      "updatedd long_msg is:\n",
      "vosual studoo code os the loght weoght but powrful source code edotor whoch\n",
      "runs on your desktop and os avaolable for wondows,mac-os and lonux\n",
      "ot comes woth buolt on support for varoous programmong languages\n",
      "and now o am usong ot to study the data scoence usong python\n"
     ]
    }
   ],
   "source": [
    "\n",
    "print(\"updatedd long_msg is:\")\n",
    "print(long_msg.replace(\"i\",\"o\"))\n"
   ]
  },
  {
   "cell_type": "code",
   "execution_count": 6,
   "metadata": {},
   "outputs": [
    {
     "name": "stdout",
     "output_type": "stream",
     "text": [
      "thisisp ythonprogram\n"
     ]
    }
   ],
   "source": [
    "data_clean=data.replace('-',\"\")\n",
    "print(data_clean)### it ha scleared all the spaces and--es"
   ]
  },
  {
   "cell_type": "code",
   "execution_count": 52,
   "metadata": {},
   "outputs": [
    {
     "name": "stdout",
     "output_type": "stream",
     "text": [
      "15\n"
     ]
    }
   ],
   "source": [
    "print(long_msg.count(\"a\"))"
   ]
  },
  {
   "cell_type": "code",
   "execution_count": 58,
   "metadata": {},
   "outputs": [
    {
     "name": "stdout",
     "output_type": "stream",
     "text": [
      "0\n"
     ]
    }
   ],
   "source": [
    "print(long_msg.count(\"this\"))"
   ]
  },
  {
   "cell_type": "code",
   "execution_count": 9,
   "metadata": {},
   "outputs": [
    {
     "name": "stdout",
     "output_type": "stream",
     "text": [
      "1\n"
     ]
    }
   ],
   "source": [
    "print(long_msg.count(\"visual\"))"
   ]
  },
  {
   "cell_type": "markdown",
   "metadata": {},
   "source": [
    "## when find gives -1 that means the term has not found\n",
    "## the no which we get is the index of the first character of the string which we are searching"
   ]
  },
  {
   "cell_type": "code",
   "execution_count": 11,
   "metadata": {},
   "outputs": [
    {
     "data": {
      "text/plain": [
       "16"
      ]
     },
     "execution_count": 11,
     "metadata": {},
     "output_type": "execute_result"
    }
   ],
   "source": [
    "long_msg.find(\"code\")"
   ]
  },
  {
   "cell_type": "markdown",
   "metadata": {},
   "source": [
    "## we can find from last so that we get index from last\n",
    "searching will always starts from one index after the word"
   ]
  },
  {
   "cell_type": "code",
   "execution_count": 12,
   "metadata": {},
   "outputs": [
    {
     "data": {
      "text/plain": [
       "103"
      ]
     },
     "execution_count": 12,
     "metadata": {},
     "output_type": "execute_result"
    }
   ],
   "source": [
    "long_msg.rfind(\"is\")"
   ]
  },
  {
   "cell_type": "code",
   "execution_count": 14,
   "metadata": {},
   "outputs": [
    {
     "name": "stdout",
     "output_type": "stream",
     "text": [
      "3\n",
      "21\n",
      "103\n"
     ]
    }
   ],
   "source": [
    "## search all occurance of substring and \n",
    "q=\"is\"   ## we wantt to search is in long_msg\n",
    "start=0 ## we will search from one index more from where the str is found\n",
    "while True:\n",
    "    pos=long_msg.find(q,start)\n",
    "    start=pos+1\n",
    "    if pos==-1:\n",
    "        break\n",
    "    print(pos)"
   ]
  },
  {
   "cell_type": "code",
   "execution_count": 38,
   "metadata": {},
   "outputs": [
    {
     "name": "stdout",
     "output_type": "stream",
     "text": [
      "vowel a: 6\n",
      "vowel a: 99\n",
      "vowel a: 106\n",
      "vowel a: 108\n",
      "vowel a: 111\n",
      "vowel a: 129\n",
      "vowel a: 135\n",
      "vowel a: 181\n",
      "vowel a: 193\n",
      "vowel a: 201\n",
      "vowel a: 205\n",
      "vowel a: 210\n",
      "vowel a: 220\n",
      "vowel a: 246\n",
      "vowel a: 248\n",
      "vowel e: 19\n",
      "vowel e: 26\n",
      "vowel e: 35\n",
      "vowel e: 58\n",
      "vowel e: 63\n",
      "vowel e: 65\n",
      "vowel e: 92\n",
      "vowel e: 114\n",
      "vowel e: 151\n",
      "vowel e: 207\n",
      "vowel e: 243\n",
      "vowel e: 253\n",
      "vowel e: 256\n",
      "vowel i: 3\n",
      "vowel i: 13\n",
      "vowel i: 21\n",
      "vowel i: 29\n",
      "vowel i: 36\n",
      "vowel i: 67\n",
      "vowel i: 74\n",
      "vowel i: 103\n",
      "vowel i: 109\n",
      "vowel i: 121\n",
      "vowel i: 140\n",
      "vowel i: 145\n",
      "vowel i: 155\n",
      "vowel i: 161\n",
      "vowel i: 165\n",
      "vowel i: 183\n",
      "vowel i: 196\n",
      "vowel i: 218\n",
      "vowel i: 225\n",
      "vowel i: 229\n",
      "vowel i: 252\n",
      "vowel i: 260\n",
      "vowel o: 14\n",
      "vowel o: 17\n",
      "vowel o: 46\n",
      "vowel o: 54\n",
      "vowel o: 61\n",
      "vowel o: 69\n",
      "vowel o: 83\n",
      "vowel o: 87\n",
      "vowel o: 96\n",
      "vowel o: 117\n",
      "vowel o: 124\n",
      "vowel o: 132\n",
      "vowel o: 149\n",
      "vowel o: 172\n",
      "vowel o: 177\n",
      "vowel o: 184\n",
      "vowel o: 190\n",
      "vowel o: 215\n",
      "vowel o: 233\n",
      "vowel o: 268\n",
      "vowel u: 5\n",
      "vowel u: 11\n",
      "vowel u: 42\n",
      "vowel u: 50\n",
      "vowel u: 55\n",
      "vowel u: 79\n",
      "vowel u: 88\n",
      "vowel u: 142\n",
      "vowel u: 160\n",
      "vowel u: 169\n",
      "vowel u: 185\n",
      "vowel u: 204\n",
      "vowel u: 223\n",
      "vowel u: 237\n",
      "vowel u: 258\n"
     ]
    }
   ],
   "source": [
    "for vowel in \"aeiou\": \n",
    "    start=0\n",
    "    while True:\n",
    "        pos=long_msg.find(vowel,start)\n",
    "        start=pos+1\n",
    "        if pos==-1:\n",
    "             break\n",
    "        print(f\"vowel {vowel}: {pos}\")\n",
    "    \n",
    "\n"
   ]
  },
  {
   "cell_type": "code",
   "execution_count": 41,
   "metadata": {},
   "outputs": [
    {
     "name": "stdout",
     "output_type": "stream",
     "text": [
      "heloo\n",
      "False\n",
      "True\n",
      "True\n",
      "False\n",
      "True\n",
      "False\n",
      "capitalised False\n"
     ]
    }
   ],
   "source": [
    "msg=input(\"enter anything which you want\")## checks only string data\n",
    "print(msg)\n",
    "print(msg.isnumeric())\n",
    "print(msg.isalpha())\n",
    "print(msg.isalnum())\n",
    "print(msg.isupper())\n",
    "print(msg.islower())\n",
    "print(msg.isspace())\n",
    "print(\"capitalised\",msg.istitle())"
   ]
  },
  {
   "cell_type": "code",
   "execution_count": 51,
   "metadata": {},
   "outputs": [
    {
     "name": "stdout",
     "output_type": "stream",
     "text": [
      "vowel a : count15\n",
      "vowel e : count13\n",
      "vowel i : count22\n",
      "vowel o : count20\n",
      "vowel u : count15\n"
     ]
    }
   ],
   "source": [
    "vowels=\"aeiou\"\n",
    "for v in vowels:\n",
    "    c=long_msg.count(v)\n",
    "    print(f\"vowel {v} : count{c}\")"
   ]
  },
  {
   "cell_type": "code",
   "execution_count": 67,
   "metadata": {},
   "outputs": [
    {
     "name": "stdout",
     "output_type": "stream",
     "text": [
      " \n",
      "visal stdio code is the light weight bt powrfl sorce code editor which\n",
      "rns on yor desktop and is available for windows,mac-os and linx\n",
      "it comes with bilt in spport for varios programming langages\n",
      "and now i am sing it to stdy the data science sing python\n"
     ]
    }
   ],
   "source": [
    "vowels=\"aeiou\"\n",
    "for v in vowels:\n",
    "    msg=long_msg.replace(v,\"\")\n",
    "print(msg)"
   ]
  },
  {
   "cell_type": "code",
   "execution_count": 59,
   "metadata": {},
   "outputs": [
    {
     "name": "stdout",
     "output_type": "stream",
     "text": [
      "['visual', 'studio', 'code', 'is', 'the', 'light', 'weight', 'but', 'powrful', 'source', 'code', 'editor', 'which', 'runs', 'on', 'your', 'desktop', 'and', 'is', 'available', 'for', 'windows,mac-os', 'and', 'linux', 'it', 'comes', 'with', 'built', 'in', 'support', 'for', 'various', 'programming', 'languages', 'and', 'now', 'i', 'am', 'using', 'it', 'to', 'study', 'the', 'data', 'science', 'using', 'python']\n"
     ]
    }
   ],
   "source": [
    "word_count=int(input(\"how many words?\"))\n",
    "words=long_msg.split()[:word_count]\n",
    "print(words)"
   ]
  },
  {
   "cell_type": "code",
   "execution_count": 71,
   "metadata": {},
   "outputs": [
    {
     "name": "stdout",
     "output_type": "stream",
     "text": [
      "visual 6\n",
      "studio 6\n",
      "code 4\n",
      "is 2\n",
      "the 3\n",
      "light 5\n",
      "weight 6\n",
      "but 3\n",
      "powrful 7\n",
      "source 6\n",
      "code 4\n",
      "editor 6\n",
      "which 5\n",
      "runs 4\n",
      "on 2\n",
      "your 4\n",
      "desktop 7\n",
      "and 3\n",
      "is 2\n",
      "available 9\n",
      "for 3\n",
      "windows,mac-os 14\n",
      "and 3\n",
      "linux 5\n",
      "it 2\n",
      "comes 5\n",
      "with 4\n",
      "built 5\n",
      "in 2\n",
      "support 7\n",
      "for 3\n",
      "various 7\n",
      "programming 11\n",
      "languages 9\n",
      "and 3\n",
      "now 3\n",
      "i 1\n",
      "am 2\n",
      "using 5\n",
      "it 2\n",
      "to 2\n",
      "study 5\n",
      "the 3\n",
      "data 4\n",
      "science 7\n",
      "using 5\n",
      "python 6\n",
      "biggest word iswindows,mac-os with 14 characters\n"
     ]
    }
   ],
   "source": [
    "## display the size of each word in the string find the largest word\n",
    "m=0\n",
    "w=0\n",
    "for word in long_msg.split():\n",
    "    print(word,len(word))\n",
    "    if len(word)>m:\n",
    "        m=len(word)\n",
    "        w=word\n",
    "print(f\"biggest word is {w} with {m} characters\")        \n",
    "\n",
    "\n"
   ]
  },
  {
   "cell_type": "code",
   "execution_count": null,
   "metadata": {},
   "outputs": [],
   "source": []
  }
 ],
 "metadata": {
  "kernelspec": {
   "display_name": "Python 3.9.12 ('base')",
   "language": "python",
   "name": "python3"
  },
  "language_info": {
   "codemirror_mode": {
    "name": "ipython",
    "version": 3
   },
   "file_extension": ".py",
   "mimetype": "text/x-python",
   "name": "python",
   "nbconvert_exporter": "python",
   "pygments_lexer": "ipython3",
   "version": "3.9.12"
  },
  "orig_nbformat": 4,
  "vscode": {
   "interpreter": {
    "hash": "5b6002d1e928962cd19dde4287e8a81266a3dfa22c12012df96bb19a6e27b9c0"
   }
  }
 },
 "nbformat": 4,
 "nbformat_minor": 2
}
