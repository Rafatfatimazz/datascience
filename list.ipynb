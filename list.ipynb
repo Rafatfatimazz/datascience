{
 "cells": [
  {
   "cell_type": "markdown",
   "metadata": {},
   "source": [
    "## list \n",
    "is mutable and allow duplicate values\n",
    " store multiple items in a single variable \n",
    " mixed ddatatypes values can be stored\n",
    " list have elements not characters"
   ]
  },
  {
   "cell_type": "code",
   "execution_count": 2,
   "metadata": {},
   "outputs": [],
   "source": [
    "##list of strings\n",
    "list1=[\"nilesh\",\"mayank\",\"aman\",\"rafat\",\"ilma\"]\n",
    "\n",
    "## list of numbers\n",
    "list2=[1,45,32,56,23,87,90]\n",
    "\n",
    "## mixed data list\n",
    "list3=[\"ravi\",23,45,67,54,\"raveena\"]\n",
    "\n",
    "## nested list\n",
    "list4=[[1,2,3,4],[3,5,67,53],[34,56]]"
   ]
  },
  {
   "cell_type": "code",
   "execution_count": 6,
   "metadata": {},
   "outputs": [
    {
     "name": "stdout",
     "output_type": "stream",
     "text": [
      "list1= [2, 3, 5, 'preeti', 23, 56, 'rafat', 78, 87, 98]\n",
      "list1[0]= 2\n",
      "list1[1]= 3\n",
      "list1[-4]= rafat\n",
      "list1[-6]= 23\n"
     ]
    }
   ],
   "source": [
    "list1=[2,3,5,\"preeti\",23,56,\"rafat\",78,87,98]\n",
    "print(\"list1=\",list1)\n",
    "print(\"list1[0]=\",list1[0])\n",
    "print(\"list1[1]=\",list1[1])\n",
    "print(\"list1[-4]=\",list1[-4])\n",
    "print(\"list1[-6]=\",list1[-6])"
   ]
  },
  {
   "cell_type": "code",
   "execution_count": 9,
   "metadata": {},
   "outputs": [
    {
     "name": "stdout",
     "output_type": "stream",
     "text": [
      "the list from 0 to 4 [12, 45, 43, 46, 76]\n",
      "the list from 4 to 6 [76, 53, 68]\n",
      "the list from -5 to 0 [12, 45, 43, 46, 76, 53, 68]\n",
      "the list from 0-7to last, [53, 68, 98, 74, 55, 76, 87]\n",
      "[12, 45, 43, 46, 76]\n"
     ]
    }
   ],
   "source": [
    "l=[12,45,43,46,76,53,68,98,74,55,76,87]\n",
    "print(\"the list from 0 to 4\",l[:5])\n",
    "print(\"the list from 4 to 6\",l[4:7])\n",
    "print(\"the list from -5 to 0\",l[:-5])\n",
    "print(\"the list from 0-7to last,\",l[-7:])\n",
    "slice=l[:-7]\n",
    "print(slice)"
   ]
  },
  {
   "cell_type": "code",
   "execution_count": 22,
   "metadata": {},
   "outputs": [
    {
     "name": "stdout",
     "output_type": "stream",
     "text": [
      "p= ['the sky', 'heaven', 'aparajita']\n"
     ]
    },
    {
     "data": {
      "text/plain": [
       "['blue bead', 'bangel seller', 'daffodils']"
      ]
     },
     "execution_count": 22,
     "metadata": {},
     "output_type": "execute_result"
    }
   ],
   "source": [
    "literature=[\"the sky\",\"heaven\",\"aparajita\",\"merchant of venice\",\"romeo juliet\",\"blue bead\",\n",
    "\"bangel seller\",\"daffodils\"]\n",
    "##first three books\n",
    "p=literature[:3]\n",
    "print(\"p=\",p)\n",
    "\n",
    "## last 3 books\n",
    "literature[-3:]\n",
    "\n",
    "\n"
   ]
  },
  {
   "cell_type": "markdown",
   "metadata": {},
   "source": [
    "## list have total 11 functions\n",
    "append()=adds an item in the list\n",
    "extend=adds two list\n",
    "insert()=adds an item at a specified position\n",
    "sort()=sort the list\n",
    "remove()=removes the item with the specified value\n",
    "reverse()=reverse the order of the list\n",
    "count()=returns the number of items with the specified value\n",
    "index()=returns the index of the first element with the specified value\n",
    "copy()=returns a copy of the list\n",
    "clear()=remove all the elemts from the list\n",
    "pop()=removes the elements from the specified position->list.pop() and list.pop(index)"
   ]
  },
  {
   "cell_type": "code",
   "execution_count": 90,
   "metadata": {},
   "outputs": [
    {
     "name": "stdout",
     "output_type": "stream",
     "text": [
      "fruits= ['apple', 'mango', 'banana', 'grapes']\n"
     ]
    }
   ],
   "source": [
    "\n",
    "##append()\n",
    "fruits=[]\n",
    "fruits.append(\"apple\")\n",
    "fruits.append(\"mango\")\n",
    "fruits.append(\"banana\")\n",
    "fruits.append(\"grapes\")\n",
    "print(\"fruits=\",fruits)"
   ]
  },
  {
   "cell_type": "code",
   "execution_count": 25,
   "metadata": {},
   "outputs": [
    {
     "name": "stdout",
     "output_type": "stream",
     "text": [
      "['the sky', 'heaven', 'aparajita', 'merchant of venice', 'romeo juliet', 'blue bead', 'bangel seller', 'daffodils', 'Anamika', 'gitanjali', 'Anamika', 'gitanjali']\n"
     ]
    }
   ],
   "source": [
    "literature.append(\"Anamika\")\n",
    "literature.append(\"gitanjali\")\n",
    "print(literature)"
   ]
  },
  {
   "cell_type": "code",
   "execution_count": 29,
   "metadata": {},
   "outputs": [
    {
     "name": "stdout",
     "output_type": "stream",
     "text": [
      "['apple', 'orange', 'mango', 'guava', 'banana', 'grapes']\n",
      "['apple', 'orange', 'mango', 'guava', 'banana', 'grapes', 'cherry']\n"
     ]
    }
   ],
   "source": [
    "## insert()\n",
    "fruits= ['apple', 'mango', 'banana', 'grapes']\n",
    "fruits.insert(1,\"orange\")\n",
    "fruits.insert(-2,\"guava\")\n",
    "print(fruits)\n",
    "fruits.insert(100,\"cherry\") ## unfeasible index,will be addedd to the list\n",
    "print(fruits)\n"
   ]
  },
  {
   "cell_type": "code",
   "execution_count": 43,
   "metadata": {},
   "outputs": [
    {
     "name": "stdout",
     "output_type": "stream",
     "text": [
      "fruits= ['apple', 'mango', 'banana', 'grapes', 'almonds', 'cashew', 'raisin', 'coconut']\n"
     ]
    }
   ],
   "source": [
    "## extend()\n",
    "\n",
    "fruits= ['apple', 'mango', 'banana', 'grapes']\n",
    "dryfruits=['almonds','cashew','raisin','coconut']\n",
    "fruits.extend(dryfruits) ## duplicatio is done how many times we run the program\n",
    "print(\"fruits=\",fruits)\n"
   ]
  },
  {
   "cell_type": "code",
   "execution_count": 45,
   "metadata": {},
   "outputs": [
    {
     "name": "stdout",
     "output_type": "stream",
     "text": [
      "['mango', 'grapes', 'banana', 'apple']\n"
     ]
    }
   ],
   "source": [
    "## sort() sort only same types of data and firstly lowercase and then uppercase letters\n",
    "fruits= ['apple', 'mango', 'banana', 'grapes']\n",
    "fruits.sort() ## sorting is done in alphabetically order\n",
    "fruits\n"
   ]
  },
  {
   "cell_type": "code",
   "execution_count": 49,
   "metadata": {},
   "outputs": [
    {
     "name": "stdout",
     "output_type": "stream",
     "text": [
      "['mango', 'grapes', 'banana', 'apple']\n"
     ]
    }
   ],
   "source": [
    "fruits= ['apple', 'mango', 'banana', 'grapes']\n",
    "fruits.sort(reverse=True) ## alphabetical sorting\n",
    "print(fruits)"
   ]
  },
  {
   "cell_type": "code",
   "execution_count": 55,
   "metadata": {},
   "outputs": [
    {
     "name": "stdout",
     "output_type": "stream",
     "text": [
      "[1, 1, 2, 2, 2, 2, 2, 2, 2, 3, 3, 5, 5, 5, 11]\n"
     ]
    }
   ],
   "source": [
    "x=[1,2,2,3,3,2,2,2,2,2,5,5,5,11,1]\n",
    "x.sort()\n",
    "print(x)"
   ]
  },
  {
   "cell_type": "code",
   "execution_count": 53,
   "metadata": {},
   "outputs": [
    {
     "name": "stdout",
     "output_type": "stream",
     "text": [
      "[2, 2, 2, 2, 2, 2, 2, 3, 3, 5, 5, 5, 11]\n",
      "[2, 2, 2, 2, 2, 2, 2, 3, 3, 5, 5, 5, 11]\n"
     ]
    }
   ],
   "source": [
    "if 1 in x:\n",
    "    x.remove(1)\n",
    "print(x)   ## run multiple times one time remove only one single elemnt\n",
    "if 4 in x:\n",
    "    x.remove(4)\n",
    "print(x)    "
   ]
  },
  {
   "cell_type": "code",
   "execution_count": 57,
   "metadata": {},
   "outputs": [
    {
     "data": {
      "text/plain": [
       "[1, 1, 2, 2, 2, 2, 2, 2, 2, 5, 5, 5, 11]"
      ]
     },
     "execution_count": 57,
     "metadata": {},
     "output_type": "execute_result"
    }
   ],
   "source": [
    "x.remove(3)\n"
   ]
  },
  {
   "cell_type": "code",
   "execution_count": 60,
   "metadata": {},
   "outputs": [
    {
     "name": "stdout",
     "output_type": "stream",
     "text": [
      "[1, 1, 2, 2, 2, 2, 2, 2, 2, 5, 5, 5, 11]\n"
     ]
    }
   ],
   "source": [
    "x.reverse()## one time reverse the list and another time reverse the list to the oprisinal position\n",
    "print(x)"
   ]
  },
  {
   "cell_type": "code",
   "execution_count": 71,
   "metadata": {},
   "outputs": [
    {
     "data": {
      "text/plain": [
       "[1, 2, 2, 3, 3, 2, 2, 2, 2, 2, 5, 5, 5, 11]"
      ]
     },
     "execution_count": 71,
     "metadata": {},
     "output_type": "execute_result"
    }
   ],
   "source": [
    "x=[1,2,2,3,3,2,2,2,2,2,5,5,5,11]\n",
    "x[::-1]## reverse the list\n",
    "x## it only reverse the list"
   ]
  },
  {
   "cell_type": "code",
   "execution_count": 72,
   "metadata": {},
   "outputs": [
    {
     "data": {
      "text/plain": [
       "10"
      ]
     },
     "execution_count": 72,
     "metadata": {},
     "output_type": "execute_result"
    }
   ],
   "source": [
    "## list()\n",
    "list=[1,1,2,3,4,5,6,4,3,2,1,2,3,4,5,6,7,1,1,1,1,1,1,1,3,3,3,3,4,4,4,2,2,2,2]\n",
    "list.count(1)"
   ]
  },
  {
   "cell_type": "code",
   "execution_count": 73,
   "metadata": {},
   "outputs": [
    {
     "data": {
      "text/plain": [
       "4"
      ]
     },
     "execution_count": 73,
     "metadata": {},
     "output_type": "execute_result"
    }
   ],
   "source": [
    "## index()\n",
    "index()\n",
    "literature=[\"the sky\",\"heaven\",\"aparajita\",\"merchant of venice\",\"romeo juliet\",\"blue bead\",\n",
    "\"bangel seller\",\"daffodils\"]\n",
    "literature.index(\"romeo juliet\")"
   ]
  },
  {
   "cell_type": "code",
   "execution_count": 76,
   "metadata": {},
   "outputs": [
    {
     "name": "stdout",
     "output_type": "stream",
     "text": [
      "literature ['aparajita', 'merchant of venice', 'romeo juliet', 'blue bead', 'bangel seller', 'daffodils']\n",
      "literature ['aparajita', 'merchant of venice', 'romeo juliet']\n"
     ]
    }
   ],
   "source": [
    "p=literature[literature.index(\"aparajita\"):] ## it gives the list from the aparajita to the last\n",
    "print(\"literature\",p)\n",
    "q=literature[literature.index(\"aparajita\"):literature.index(\"blue bead\")]  \n",
    "print(\"literature\",q)"
   ]
  },
  {
   "cell_type": "code",
   "execution_count": 78,
   "metadata": {},
   "outputs": [
    {
     "name": "stdout",
     "output_type": "stream",
     "text": [
      "['apple', 'mango', 'banana', 'grapes']\n"
     ]
    }
   ],
   "source": [
    "## copy()\n",
    "fruits= ['apple', 'mango', 'banana', 'grapes']\n",
    "dup_fruits=fruits.copy()\n",
    "print(dup_fruits)"
   ]
  },
  {
   "cell_type": "code",
   "execution_count": 79,
   "metadata": {},
   "outputs": [
    {
     "data": {
      "text/plain": [
       "[]"
      ]
     },
     "execution_count": 79,
     "metadata": {},
     "output_type": "execute_result"
    }
   ],
   "source": [
    "## clear()\n",
    "fruits.clear()\n",
    "fruits"
   ]
  },
  {
   "cell_type": "code",
   "execution_count": 85,
   "metadata": {},
   "outputs": [
    {
     "data": {
      "text/plain": [
       "'banana'"
      ]
     },
     "execution_count": 85,
     "metadata": {},
     "output_type": "execute_result"
    }
   ],
   "source": [
    "## pop()\n",
    "fruits= ['apple', 'mango', 'banana', 'grapes']\n",
    "fruits.pop(2)\n",
    "## popped out the element at the index 2"
   ]
  },
  {
   "cell_type": "code",
   "execution_count": 86,
   "metadata": {},
   "outputs": [
    {
     "name": "stdout",
     "output_type": "stream",
     "text": [
      "['apple', 'mango', 'grapes']\n"
     ]
    }
   ],
   "source": [
    "print(fruits)"
   ]
  },
  {
   "cell_type": "code",
   "execution_count": 88,
   "metadata": {},
   "outputs": [
    {
     "data": {
      "text/plain": [
       "'grapes'"
      ]
     },
     "execution_count": 88,
     "metadata": {},
     "output_type": "execute_result"
    }
   ],
   "source": [
    "fruits= ['apple', 'mango', 'banana', 'grapes']\n",
    "fruits.pop()## when no index is given it automatically removes the last elemnt from the list"
   ]
  },
  {
   "cell_type": "code",
   "execution_count": 89,
   "metadata": {},
   "outputs": [
    {
     "name": "stdout",
     "output_type": "stream",
     "text": [
      "['apple', 'mango', 'banana']\n"
     ]
    }
   ],
   "source": [
    "print(fruits)"
   ]
  },
  {
   "cell_type": "code",
   "execution_count": null,
   "metadata": {},
   "outputs": [],
   "source": []
  }
 ],
 "metadata": {
  "kernelspec": {
   "display_name": "Python 3.9.12 ('base')",
   "language": "python",
   "name": "python3"
  },
  "language_info": {
   "codemirror_mode": {
    "name": "ipython",
    "version": 3
   },
   "file_extension": ".py",
   "mimetype": "text/x-python",
   "name": "python",
   "nbconvert_exporter": "python",
   "pygments_lexer": "ipython3",
   "version": "3.9.12"
  },
  "orig_nbformat": 4,
  "vscode": {
   "interpreter": {
    "hash": "5b6002d1e928962cd19dde4287e8a81266a3dfa22c12012df96bb19a6e27b9c0"
   }
  }
 },
 "nbformat": 4,
 "nbformat_minor": 2
}
