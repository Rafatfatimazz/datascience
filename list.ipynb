{
 "cells": [
  {
   "cell_type": "markdown",
   "metadata": {},
   "source": [
    "## list \n",
    "is mutable and allow duplicate values\n",
    " store multiple items in a single variable \n",
    " mixed ddatatypes values can be stored\n",
    " list have elements not characters"
   ]
  },
  {
   "cell_type": "code",
   "execution_count": null,
   "metadata": {},
   "outputs": [],
   "source": [
    "##list of strings\n",
    "list1=[\"nilesh\",\"mayank\",\"aman\",\"rafat\",\"ilma\"]\n",
    "\n",
    "## list of numbers\n",
    "list2=[1,45,32,56,23,87,90]\n",
    "\n",
    "## mixed data list\n",
    "list3=[\"ravi\",23,45,67,54,\"raveena\"]\n",
    "\n",
    "## nested list\n",
    "list4=[[1,2,3,4],[3,5,67,53],[34,56]]"
   ]
  },
  {
   "cell_type": "code",
   "execution_count": null,
   "metadata": {},
   "outputs": [],
   "source": [
    "list1=[2,3,5,\"preeti\",23,56,\"rafat\",78,87,98]\n",
    "print(\"list1=\",list1)\n",
    "print(\"list1[0]=\",list1[0])\n",
    "print(\"list1[1]=\",list1[1])\n",
    "print(\"list1[-4]=\",list1[-4])\n",
    "print(\"list1[-6]=\",list1[-6])"
   ]
  },
  {
   "cell_type": "code",
   "execution_count": null,
   "metadata": {},
   "outputs": [],
   "source": [
    "l=[12,45,43,46,76,53,68,98,74,55,76,87]\n",
    "print(\"the list from 0 to 4\",l[:5])\n",
    "print(\"the list from 4 to 6\",l[4:7])\n",
    "print(\"the list from -5 to 0\",l[:-5])\n",
    "print(\"the list from 0-7to last,\",l[-7:])\n",
    "slice=l[:-7]\n",
    "print(slice)"
   ]
  },
  {
   "cell_type": "code",
   "execution_count": null,
   "metadata": {},
   "outputs": [],
   "source": [
    "literature=[\"the sky\",\"heaven\",\"aparajita\",\"merchant of venice\",\"romeo juliet\",\"blue bead\",\n",
    "\"bangel seller\",\"daffodils\"]\n",
    "##first three books\n",
    "p=literature[:3]\n",
    "print(\"p=\",p)\n",
    "\n",
    "## last 3 books\n",
    "literature[-3:]\n",
    "\n",
    "\n"
   ]
  },
  {
   "cell_type": "markdown",
   "metadata": {},
   "source": [
    "## list have total 11 functions\n",
    "append()=adds an item in the list\n",
    "extend=adds two list\n",
    "insert()=adds an item at a specified position\n",
    "sort()=sort the list\n",
    "remove()=removes the item with the specified value\n",
    "reverse()=reverse the order of the list\n",
    "count()=returns the number of items with the specified value\n",
    "index()=returns the index of the first element with the specified value\n",
    "copy()=returns a copy of the list\n",
    "clear()=remove all the elemts from the list\n",
    "pop()=removes the elements from the specified position->list.pop() and list.pop(index)"
   ]
  },
  {
   "cell_type": "code",
   "execution_count": null,
   "metadata": {},
   "outputs": [],
   "source": [
    "\n",
    "##append()\n",
    "fruits=[]\n",
    "fruits.append(\"apple\")\n",
    "fruits.append(\"mango\")\n",
    "fruits.append(\"banana\")\n",
    "fruits.append(\"grapes\")\n",
    "print(\"fruits=\",fruits)"
   ]
  },
  {
   "cell_type": "code",
   "execution_count": null,
   "metadata": {},
   "outputs": [],
   "source": [
    "literature.append(\"Anamika\")\n",
    "literature.append(\"gitanjali\")\n",
    "print(literature)"
   ]
  },
  {
   "cell_type": "code",
   "execution_count": null,
   "metadata": {},
   "outputs": [],
   "source": [
    "## insert()\n",
    "fruits= ['apple', 'mango', 'banana', 'grapes']\n",
    "fruits.insert(1,\"orange\")\n",
    "fruits.insert(-2,\"guava\")\n",
    "print(fruits)\n",
    "fruits.insert(100,\"cherry\") ## unfeasible index,will be addedd to the list\n",
    "print(fruits)\n"
   ]
  },
  {
   "cell_type": "code",
   "execution_count": null,
   "metadata": {},
   "outputs": [],
   "source": [
    "## extend()\n",
    "\n",
    "fruits= ['apple', 'mango', 'banana', 'grapes']\n",
    "dryfruits=['almonds','cashew','raisin','coconut']\n",
    "fruits.extend(dryfruits) ## duplicatio is done how many times we run the program\n",
    "print(\"fruits=\",fruits)\n"
   ]
  },
  {
   "cell_type": "code",
   "execution_count": null,
   "metadata": {},
   "outputs": [],
   "source": [
    "## sort() sort only same types of data and firstly lowercase and then uppercase letters\n",
    "fruits= ['apple', 'mango', 'banana', 'grapes']\n",
    "fruits.sort() ## sorting is done in alphabetically order\n",
    "fruits\n"
   ]
  },
  {
   "cell_type": "code",
   "execution_count": null,
   "metadata": {},
   "outputs": [],
   "source": [
    "fruits= ['apple', 'mango', 'banana', 'grapes']\n",
    "fruits.sort(reverse=True) ## alphabetical sorting\n",
    "print(fruits)"
   ]
  },
  {
   "cell_type": "code",
   "execution_count": null,
   "metadata": {},
   "outputs": [],
   "source": [
    "x=[1,2,2,3,3,2,2,2,2,2,5,5,5,11,1]\n",
    "x.sort()\n",
    "print(x)"
   ]
  },
  {
   "cell_type": "code",
   "execution_count": null,
   "metadata": {},
   "outputs": [],
   "source": [
    "if 1 in x:\n",
    "    x.remove(1)\n",
    "print(x)   ## run multiple times one time remove only one single elemnt\n",
    "if 4 in x:\n",
    "    x.remove(4)\n",
    "print(x)    "
   ]
  },
  {
   "cell_type": "code",
   "execution_count": null,
   "metadata": {},
   "outputs": [],
   "source": [
    "x.remove(3)\n"
   ]
  },
  {
   "cell_type": "code",
   "execution_count": null,
   "metadata": {},
   "outputs": [],
   "source": [
    "x.reverse()## one time reverse the list and another time reverse the list to the oprisinal position\n",
    "print(x)"
   ]
  },
  {
   "cell_type": "code",
   "execution_count": null,
   "metadata": {},
   "outputs": [],
   "source": [
    "x=[1,2,2,3,3,2,2,2,2,2,5,5,5,11]\n",
    "x[::-1]## reverse the list\n",
    "x## it only reverse the list"
   ]
  },
  {
   "cell_type": "code",
   "execution_count": null,
   "metadata": {},
   "outputs": [],
   "source": [
    "## list()\n",
    "list=[1,1,2,3,4,5,6,4,3,2,1,2,3,4,5,6,7,1,1,1,1,1,1,1,3,3,3,3,4,4,4,2,2,2,2]\n",
    "list.count(1)"
   ]
  },
  {
   "cell_type": "code",
   "execution_count": null,
   "metadata": {},
   "outputs": [],
   "source": [
    "## index()\n",
    "index()\n",
    "literature=[\"the sky\",\"heaven\",\"aparajita\",\"merchant of venice\",\"romeo juliet\",\"blue bead\",\n",
    "\"bangel seller\",\"daffodils\"]\n",
    "literature.index(\"romeo juliet\")"
   ]
  },
  {
   "cell_type": "code",
   "execution_count": null,
   "metadata": {},
   "outputs": [],
   "source": [
    "p=literature[literature.index(\"aparajita\"):] ## it gives the list from the aparajita to the last\n",
    "print(\"literature\",p)\n",
    "q=literature[literature.index(\"aparajita\"):literature.index(\"blue bead\")]  \n",
    "print(\"literature\",q)"
   ]
  },
  {
   "cell_type": "code",
   "execution_count": null,
   "metadata": {},
   "outputs": [],
   "source": [
    "## copy()\n",
    "fruits= ['apple', 'mango', 'banana', 'grapes']\n",
    "dup_fruits=fruits.copy()\n",
    "print(dup_fruits)"
   ]
  },
  {
   "cell_type": "code",
   "execution_count": null,
   "metadata": {},
   "outputs": [],
   "source": [
    "## clear()\n",
    "fruits.clear()\n",
    "fruits"
   ]
  },
  {
   "cell_type": "code",
   "execution_count": null,
   "metadata": {},
   "outputs": [],
   "source": [
    "## pop()\n",
    "fruits= ['apple', 'mango', 'banana', 'grapes']\n",
    "fruits.pop(2)\n",
    "## popped out the element at the index 2"
   ]
  },
  {
   "cell_type": "code",
   "execution_count": null,
   "metadata": {},
   "outputs": [],
   "source": [
    "print(fruits)"
   ]
  },
  {
   "cell_type": "code",
   "execution_count": null,
   "metadata": {},
   "outputs": [],
   "source": [
    "fruits= ['apple', 'mango', 'banana', 'grapes']\n",
    "fruits.pop()## when no index is given it automatically removes the last elemnt from the list"
   ]
  },
  {
   "cell_type": "code",
   "execution_count": null,
   "metadata": {},
   "outputs": [],
   "source": [
    "print(fruits)"
   ]
  },
  {
   "cell_type": "markdown",
   "metadata": {},
   "source": [
    "wap to create list of five items given by user"
   ]
  },
  {
   "cell_type": "code",
   "execution_count": null,
   "metadata": {},
   "outputs": [],
   "source": [
    "ex=[]\n",
    "for i in range(5):\n",
    "    val=int(input(f\"enter 5 intergers {i+1}:\"))\n",
    "    ex.append(val)\n",
    "print(ex)    "
   ]
  },
  {
   "cell_type": "markdown",
   "metadata": {},
   "source": [
    "wap to display sum of list"
   ]
  },
  {
   "cell_type": "code",
   "execution_count": null,
   "metadata": {},
   "outputs": [],
   "source": [
    "ex=[]\n",
    "total=0\n",
    "for i in range(5):\n",
    "    val=int(input(f\"enter 5 intergers {i+1}:\"))\n",
    "    ex.append(val)\n",
    "print(ex)\n",
    "for i in ex:\n",
    "    total+=i\n",
    "print(total)        "
   ]
  },
  {
   "cell_type": "markdown",
   "metadata": {},
   "source": [
    "mean,mode,median,max ,min"
   ]
  },
  {
   "cell_type": "code",
   "execution_count": null,
   "metadata": {},
   "outputs": [],
   "source": [
    "\n",
    "x=[2,4,5,7,8,6]\n",
    "mean=sum(x)/len(x)\n",
    "print(mean)\n",
    "x.sort()\n",
    "if len(x)%2==0:\n",
    "  median=(x[len(x)//2]+x[len(x)//2-1])\n",
    "else:\n",
    "    median=x[len(x)//2]\n",
    "print(median)\n",
    "print(min(x))\n",
    "print(max(x))\n"
   ]
  },
  {
   "cell_type": "code",
   "execution_count": 17,
   "metadata": {},
   "outputs": [
    {
     "name": "stdout",
     "output_type": "stream",
     "text": [
      "[2, 4, 6]\n"
     ]
    }
   ],
   "source": [
    "## add two list elements  element wise and produce a new list\n",
    "x=[1,2,3]\n",
    "y=[1,2,3]\n",
    "n=[] ## list should be empty\n",
    "for i,j in zip(x,y):#simultaneously use more than two ierables in single loop\n",
    "     n.append(i+j)\n",
    "print(n)        \n",
    "\n"
   ]
  },
  {
   "cell_type": "code",
   "execution_count": 22,
   "metadata": {},
   "outputs": [
    {
     "name": "stdout",
     "output_type": "stream",
     "text": [
      "[16, 25, 36, 49]\n"
     ]
    }
   ],
   "source": [
    "## create a list where every element is a sqr \n",
    "## of elements from an existing list\n",
    "x=[4,5,6,7]\n",
    "y=[]\n",
    "for i in x:\n",
    "    y.append(i**2)\n",
    "print(y)    "
   ]
  },
  {
   "cell_type": "code",
   "execution_count": 36,
   "metadata": {},
   "outputs": [
    {
     "name": "stdout",
     "output_type": "stream",
     "text": [
      "[9, 25, 49]\n"
     ]
    }
   ],
   "source": [
    "## create a list where every odd element is a sqr\n",
    "x=[3,4,5,6,7]\n",
    "y=[]\n",
    "for i in x:\n",
    "  if i%2!=0:\n",
    "     y.append(i**2)\n",
    "print(y)       \n",
    "    "
   ]
  },
  {
   "cell_type": "code",
   "execution_count": 57,
   "metadata": {},
   "outputs": [
    {
     "name": "stdout",
     "output_type": "stream",
     "text": [
      "united states\n",
      "project manager\n",
      "software engineer\n",
      "system software\n",
      "markk up\n",
      "hook up\n",
      "['us', 'pm', 'se', 'ss', 'mu', 'hu']\n"
     ]
    }
   ],
   "source": [
    "## extract first letter\n",
    "words=[\"united states\",\"project manager\",\"software engineer\",\"system software\",\"markk up\",\"hook up\"]\n",
    "a=[]\n",
    "for item in words:\n",
    "     print(item)\n",
    "     items=item.split()##now split\n",
    "     print(items) ## each item is a seperate list now\n",
    "     s=\"\"\n",
    "     for t in items:\n",
    "       s+=t[0] ## it takes the valye at 0 index\n",
    "     a.append(s)\n",
    "print(a)       "
   ]
  },
  {
   "cell_type": "code",
   "execution_count": 1,
   "metadata": {},
   "outputs": [
    {
     "name": "stdout",
     "output_type": "stream",
     "text": [
      "['us', 'pm', 'se', 'ss', 'mu', 'hu']\n"
     ]
    }
   ],
   "source": [
    "words=[\"united states\",\"project manager\",\"software engineer\",\"system software\",\"markk up\",\"hook up\"]\n",
    "a=[]\n",
    "for items in words:\n",
    "     s=\"\"\n",
    "     for t in items.split():\n",
    "       s+=t[0] ## it takes the valye at 0 index\n",
    "     a.append(s)\n",
    "print(a)       "
   ]
  },
  {
   "cell_type": "code",
   "execution_count": 19,
   "metadata": {},
   "outputs": [
    {
     "name": "stdout",
     "output_type": "stream",
     "text": [
      "list : ['23', 'erf', '3', 'frtg', '4', 'gtd', '5']\n",
      "[True, False, True, False, True, False, True]\n",
      "[1, 0, 1, 0, 1, 0, 1]\n"
     ]
    }
   ],
   "source": [
    "## take a list from user in one line of input and then\n",
    "## remove all the non numeric values from the list \n",
    "## and then display the cubes of numbers from the list\n",
    "a=input(\"enter your string seperated by comma\")\n",
    "list1=a.split()\n",
    "print(\"list :\",list1)\n",
    "b=[]\n",
    "c=[]\n",
    "for i in list1:  \n",
    "    if i.isnumeric():\n",
    "      b.append(int(i))\n",
    "print(b) \n",
    "for i in b:\n",
    "    c.append(i**3) \n",
    "print(c)    \n",
    "\n",
    "    \n",
    "\n"
   ]
  },
  {
   "cell_type": "markdown",
   "metadata": {},
   "source": [
    "## list comprehension\n",
    "is  way to create a list from existing list\n",
    "using one line of expression\n",
    "*syntax:\n",
    "\n",
    "newlist=[expression for item in old list ]\n",
    "\n",
    "*with condition syntax\n",
    "\n",
    "newlist=[expression for item in old list if condition]"
   ]
  },
  {
   "cell_type": "code",
   "execution_count": 16,
   "metadata": {},
   "outputs": [
    {
     "name": "stdout",
     "output_type": "stream",
     "text": [
      "[4, 16, 25, 49, 16, 4, 25]\n"
     ]
    }
   ],
   "source": [
    "## old procedure\n",
    "x=[2,4,5,7,4,2,5]\n",
    "a=[]\n",
    "for i in x:\n",
    "    a.append(i**2)\n",
    "print(a)    "
   ]
  },
  {
   "cell_type": "code",
   "execution_count": 17,
   "metadata": {},
   "outputs": [
    {
     "name": "stdout",
     "output_type": "stream",
     "text": [
      "[4, 16, 25, 49, 16, 4, 25]\n"
     ]
    }
   ],
   "source": [
    "## list comprehension\n",
    "a=[i**2 for i in x]\n",
    "print(a)"
   ]
  },
  {
   "cell_type": "code",
   "execution_count": 20,
   "metadata": {},
   "outputs": [
    {
     "name": "stdout",
     "output_type": "stream",
     "text": [
      "[9, 25, 49]\n"
     ]
    }
   ],
   "source": [
    "## create a list where every odd element is a sqr\n",
    "x=[3,4,5,6,7]\n",
    "y=[]\n",
    "y=[i**2 for i in x if i%2!=0]\n",
    "print(y)       \n",
    "    "
   ]
  },
  {
   "cell_type": "code",
   "execution_count": 1,
   "metadata": {},
   "outputs": [
    {
     "name": "stdout",
     "output_type": "stream",
     "text": [
      "list : ['hju8']\n"
     ]
    },
    {
     "ename": "AttributeError",
     "evalue": "'list' object has no attribute 'split'",
     "output_type": "error",
     "traceback": [
      "\u001b[1;31m---------------------------------------------------------------------------\u001b[0m",
      "\u001b[1;31mAttributeError\u001b[0m                            Traceback (most recent call last)",
      "\u001b[1;32mc:\\Users\\HP\\Documents\\datasciencepy\\list.ipynb Cell 43\u001b[0m in \u001b[0;36m<cell line: 9>\u001b[1;34m()\u001b[0m\n\u001b[0;32m      <a href='vscode-notebook-cell:/c%3A/Users/HP/Documents/datasciencepy/list.ipynb#X60sZmlsZQ%3D%3D?line=6'>7</a>\u001b[0m b\u001b[39m=\u001b[39m[]\n\u001b[0;32m      <a href='vscode-notebook-cell:/c%3A/Users/HP/Documents/datasciencepy/list.ipynb#X60sZmlsZQ%3D%3D?line=7'>8</a>\u001b[0m c\u001b[39m=\u001b[39m[]\n\u001b[1;32m----> <a href='vscode-notebook-cell:/c%3A/Users/HP/Documents/datasciencepy/list.ipynb#X60sZmlsZQ%3D%3D?line=8'>9</a>\u001b[0m b\u001b[39m=\u001b[39m[i \u001b[39mfor\u001b[39;00m i \u001b[39min\u001b[39;00m list1\u001b[39m.\u001b[39;49msplit() \u001b[39mif\u001b[39;00m i\u001b[39m.\u001b[39misnumeric()] \n\u001b[0;32m     <a href='vscode-notebook-cell:/c%3A/Users/HP/Documents/datasciencepy/list.ipynb#X60sZmlsZQ%3D%3D?line=9'>10</a>\u001b[0m \u001b[39mprint\u001b[39m(b) \n\u001b[0;32m     <a href='vscode-notebook-cell:/c%3A/Users/HP/Documents/datasciencepy/list.ipynb#X60sZmlsZQ%3D%3D?line=10'>11</a>\u001b[0m c\u001b[39m=\u001b[39m[j\u001b[39m*\u001b[39m\u001b[39m*\u001b[39m\u001b[39m3\u001b[39m \u001b[39mfor\u001b[39;00m j \u001b[39min\u001b[39;00m b] \n",
      "\u001b[1;31mAttributeError\u001b[0m: 'list' object has no attribute 'split'"
     ]
    }
   ],
   "source": [
    "## take a list from user in one line of input and then\n",
    "## remove all the non numeric values from the list \n",
    "## and then display the cubes of numbers from the list\n",
    "a=input(\"enter your string seperated by comma\")\n",
    "list1=a.split()\n",
    "print(\"list :\",list1)\n",
    "b=[]\n",
    "c=[]\n",
    "b=[i for i in list1.split() if i.isnumeric()] \n",
    "print(b) \n",
    "c=[j**3 for j in b] \n",
    "print(c)    \n",
    "\n",
    "    \n",
    "\n"
   ]
  },
  {
   "cell_type": "markdown",
   "metadata": {},
   "source": [
    "## tuple\n",
    "similar to list \n",
    "not mutable and cannot be changed during runtime\n",
    "\n",
    "we use paranthesis\n",
    "\n",
    "indexing and slicing is same as before\n",
    "\n",
    "tuples can be contatinated duplication is allowed\n",
    "\n",
    "only two functions in ryple index nd count"
   ]
  },
  {
   "cell_type": "code",
   "execution_count": 3,
   "metadata": {},
   "outputs": [
    {
     "name": "stdout",
     "output_type": "stream",
     "text": [
      "(1, 2, 4, 5)\n",
      "<class 'tuple'>\n"
     ]
    }
   ],
   "source": [
    "a=(1,2,4,5)\n",
    "print(a)\n",
    "print(type(a))"
   ]
  },
  {
   "cell_type": "code",
   "execution_count": 8,
   "metadata": {},
   "outputs": [
    {
     "name": "stdout",
     "output_type": "stream",
     "text": [
      "(1, 2, 6, 7)\n",
      "(1, 2, 6, 7)\n",
      "(1, 2, 6, 7)\n",
      "(1, 2, 6, 7)\n"
     ]
    }
   ],
   "source": [
    "b=1,2,6,7 ## automatically convert it into tuple by default\n",
    "for value in b:\n",
    "   print(b)"
   ]
  },
  {
   "cell_type": "code",
   "execution_count": 9,
   "metadata": {},
   "outputs": [
    {
     "name": "stdout",
     "output_type": "stream",
     "text": [
      "(1, 2, 3, 4, 4, 5, 6, 7)\n"
     ]
    }
   ],
   "source": [
    "print((1,2,3,4)+(4,5,6,7))"
   ]
  },
  {
   "cell_type": "code",
   "execution_count": 10,
   "metadata": {},
   "outputs": [
    {
     "name": "stdout",
     "output_type": "stream",
     "text": [
      "('Repeat', 'Repeat', 'Repeat')\n"
     ]
    }
   ],
   "source": [
    "print((\"Repeat\",)*3)"
   ]
  },
  {
   "cell_type": "code",
   "execution_count": 13,
   "metadata": {},
   "outputs": [
    {
     "name": "stdout",
     "output_type": "stream",
     "text": [
      "0\n",
      "4\n"
     ]
    }
   ],
   "source": [
    "my_tuple=(\"a\",\"b\",\"c\",\"d\",1,\"a\",\"b\")\n",
    "print(my_tuple.count(\"p\"))\n",
    "print(my_tuple.index(1))"
   ]
  },
  {
   "cell_type": "code",
   "execution_count": 14,
   "metadata": {},
   "outputs": [
    {
     "name": "stdout",
     "output_type": "stream",
     "text": [
      "[1, 2, 4, 5]\n"
     ]
    }
   ],
   "source": [
    "## conver tuple into list\n",
    "a1=list(a)\n",
    "print(a1)"
   ]
  },
  {
   "cell_type": "code",
   "execution_count": 16,
   "metadata": {},
   "outputs": [
    {
     "name": "stdout",
     "output_type": "stream",
     "text": [
      "(1, 2, 4, 5)\n"
     ]
    }
   ],
   "source": [
    "## convert list into tuple\n",
    "a=[1, 2, 4, 5]\n",
    "val=tuple(a)\n",
    "print(val)"
   ]
  },
  {
   "cell_type": "markdown",
   "metadata": {},
   "source": [
    "## sets:\n",
    "unordered collection of items\n",
    "\n",
    "every set element is unique(no duplicacy)\n",
    "\n",
    "can perform all mathematical set operations using {}\n",
    "\n",
    "creating an empty set is bit tricky"
   ]
  },
  {
   "cell_type": "code",
   "execution_count": 19,
   "metadata": {},
   "outputs": [
    {
     "name": "stdout",
     "output_type": "stream",
     "text": [
      "{32, 1, 2, 3, 4, 5, 6, 7, 8, 43}\n"
     ]
    }
   ],
   "source": [
    "s={1,2,3,4,1,3,4,5,6,7,32,7,7,8,5,43}\n",
    "print(s)"
   ]
  },
  {
   "cell_type": "code",
   "execution_count": 20,
   "metadata": {},
   "outputs": [
    {
     "name": "stdout",
     "output_type": "stream",
     "text": [
      "{1, 2, 3, 4}\n"
     ]
    }
   ],
   "source": [
    "set1=set([1,2,3,4,2,3])\n",
    "print(set1)"
   ]
  },
  {
   "cell_type": "code",
   "execution_count": 14,
   "metadata": {},
   "outputs": [
    {
     "ename": "TypeError",
     "evalue": "unhashable type: 'list'",
     "output_type": "error",
     "traceback": [
      "\u001b[1;31m---------------------------------------------------------------------------\u001b[0m",
      "\u001b[1;31mTypeError\u001b[0m                                 Traceback (most recent call last)",
      "\u001b[1;32mc:\\Users\\HP\\Documents\\datasciencepy\\list.ipynb Cell 55\u001b[0m in \u001b[0;36m<cell line: 1>\u001b[1;34m()\u001b[0m\n\u001b[1;32m----> <a href='vscode-notebook-cell:/c%3A/Users/HP/Documents/datasciencepy/list.ipynb#Y105sZmlsZQ%3D%3D?line=0'>1</a>\u001b[0m my_set\u001b[39m=\u001b[39m{\u001b[39m1\u001b[39m,\u001b[39m2\u001b[39m,[\u001b[39m3\u001b[39m,\u001b[39m4\u001b[39m]}\n",
      "\u001b[1;31mTypeError\u001b[0m: unhashable type: 'list'"
     ]
    }
   ],
   "source": [
    "my_set={1,2,[3,4]}"
   ]
  },
  {
   "cell_type": "code",
   "execution_count": 22,
   "metadata": {},
   "outputs": [
    {
     "name": "stdout",
     "output_type": "stream",
     "text": [
      "<class 'set'>\n"
     ]
    }
   ],
   "source": [
    "a=set()\n",
    "print(type(a))"
   ]
  },
  {
   "cell_type": "code",
   "execution_count": 34,
   "metadata": {},
   "outputs": [
    {
     "name": "stdout",
     "output_type": "stream",
     "text": [
      "{1, 2, 3, 4, 9}\n"
     ]
    }
   ],
   "source": [
    "set2={1,2,3,4}\n",
    "set2.add(9)\n",
    "print(set2)\n"
   ]
  },
  {
   "cell_type": "code",
   "execution_count": 28,
   "metadata": {},
   "outputs": [
    {
     "name": "stdout",
     "output_type": "stream",
     "text": [
      "{1, 2, 3, 4, 7, 8, 9}\n",
      "{1, 2, 3, 4, 5, 6, 7, 8, 9}\n"
     ]
    }
   ],
   "source": [
    "set2.update([2,3,7,8,9])\n",
    "print(set2)\n",
    "set2.update([6,7],{1,3,4,5})\n",
    "print(set2)"
   ]
  },
  {
   "cell_type": "code",
   "execution_count": 29,
   "metadata": {},
   "outputs": [
    {
     "name": "stdout",
     "output_type": "stream",
     "text": [
      "{1, 2, 3, 4, 6, 7, 8, 9}\n"
     ]
    }
   ],
   "source": [
    "set2.discard(5)\n",
    "print(set2)"
   ]
  },
  {
   "cell_type": "code",
   "execution_count": 30,
   "metadata": {},
   "outputs": [
    {
     "name": "stdout",
     "output_type": "stream",
     "text": [
      "{1, 2, 3, 4, 7, 8, 9}\n"
     ]
    }
   ],
   "source": [
    "set2.remove(6)\n",
    "print(set2)"
   ]
  },
  {
   "cell_type": "code",
   "execution_count": 35,
   "metadata": {},
   "outputs": [
    {
     "name": "stdout",
     "output_type": "stream",
     "text": [
      "{2, 3, 4, 9}\n"
     ]
    }
   ],
   "source": [
    "set2.pop()\n",
    "print(set2)"
   ]
  },
  {
   "cell_type": "code",
   "execution_count": 32,
   "metadata": {},
   "outputs": [
    {
     "name": "stdout",
     "output_type": "stream",
     "text": [
      "set()\n"
     ]
    }
   ],
   "source": [
    "set2.clear()\n",
    "print(set2)"
   ]
  },
  {
   "cell_type": "code",
   "execution_count": 36,
   "metadata": {},
   "outputs": [
    {
     "name": "stdout",
     "output_type": "stream",
     "text": [
      "{1, 2, 3, 4, 5, 6, 7}\n"
     ]
    }
   ],
   "source": [
    "## union \"|\"\n",
    "a={1,2,3,4,5}\n",
    "b={1,6,7,4,3}\n",
    "print(a|b)"
   ]
  },
  {
   "cell_type": "code",
   "execution_count": 40,
   "metadata": {},
   "outputs": [
    {
     "name": "stdout",
     "output_type": "stream",
     "text": [
      "{1, 2, 3, 4, 5, 6, 7, 8, 9}\n"
     ]
    }
   ],
   "source": [
    "a={3,4,5,6}\n",
    "b={1,2,3,4,5,7,8,9}\n",
    "print(a.union(b))"
   ]
  },
  {
   "cell_type": "code",
   "execution_count": 13,
   "metadata": {},
   "outputs": [
    {
     "data": {
      "text/plain": [
       "{1, 2, 3, 4, 5, 6, 7, 8, 9, 'c', 'd'}"
      ]
     },
     "execution_count": 13,
     "metadata": {},
     "output_type": "execute_result"
    }
   ],
   "source": [
    "A={3,4,5,6,\"c\",\"d\"}\n",
    "B={1,2,3,4,5,7,8,9}\n",
    "B.union(A)"
   ]
  },
  {
   "cell_type": "code",
   "execution_count": 51,
   "metadata": {},
   "outputs": [
    {
     "name": "stdout",
     "output_type": "stream",
     "text": [
      "{3, 4, 5}\n"
     ]
    }
   ],
   "source": [
    "## intersection\n",
    "a={3,4,5,6}\n",
    "b={1,2,3,4,5,7,8,9}\n",
    "print(a.intersection(b))"
   ]
  },
  {
   "cell_type": "code",
   "execution_count": 44,
   "metadata": {},
   "outputs": [
    {
     "name": "stdout",
     "output_type": "stream",
     "text": [
      "{3, 4, 5}\n"
     ]
    }
   ],
   "source": [
    "a={3,4,5,6}\n",
    "b={1,2,3,4,5,7,8,9}\n",
    "print(a&b)"
   ]
  },
  {
   "cell_type": "code",
   "execution_count": 53,
   "metadata": {},
   "outputs": [
    {
     "name": "stdout",
     "output_type": "stream",
     "text": [
      "{3, 5, 6}\n"
     ]
    }
   ],
   "source": [
    "## set difference\n",
    "a={1,2,3,4,5,6}\n",
    "b={11,12,13,1,4,15,16,2}\n",
    "print(a-b)"
   ]
  },
  {
   "cell_type": "code",
   "execution_count": 54,
   "metadata": {},
   "outputs": [
    {
     "name": "stdout",
     "output_type": "stream",
     "text": [
      "{3, 5, 6}\n"
     ]
    }
   ],
   "source": [
    "a={1,2,3,4,5,6}\n",
    "b={11,12,13,1,4,15,16,2}\n",
    "print(a.difference(b))"
   ]
  },
  {
   "cell_type": "code",
   "execution_count": 55,
   "metadata": {},
   "outputs": [
    {
     "name": "stdout",
     "output_type": "stream",
     "text": [
      "{'comb', 'mixer', 'iron', 'curler', 'grinder', 'fridge', 'juicer', 'washing machine'}\n",
      "{'curler', 'iron'}\n",
      "{'juicer', 'mixer', 'comb'}\n"
     ]
    }
   ],
   "source": [
    "a={\"iron\",\"comb\",\"curler\",\"mixer\",\"juicer\"}\n",
    "b={\"grinder\",\"fridge\",\"washing machine\",\"iron\",\"curler\"}\n",
    "print(a|b)\n",
    "print(a&b)\n",
    "print(a-b)"
   ]
  },
  {
   "cell_type": "code",
   "execution_count": 79,
   "metadata": {},
   "outputs": [
    {
     "name": "stdout",
     "output_type": "stream",
     "text": [
      "{'iron', 'comb', 'juicer', 'mixer', 'curler'}\n",
      "['iron', 'comb', 'juicer', 'mixer', 'curler']\n",
      "('iron', 'comb', 'juicer', 'mixer', 'curler')\n",
      "{'comb', 'mixer', 'curler', 'iron', 'juicer'}\n"
     ]
    }
   ],
   "source": [
    "print(a)\n",
    "a=list(a)\n",
    "print(a)\n",
    "a=tuple(a)\n",
    "print(a)## vice versa is also possible\n",
    "a=set(a)\n",
    "print(a)"
   ]
  },
  {
   "cell_type": "code",
   "execution_count": 80,
   "metadata": {},
   "outputs": [
    {
     "name": "stdout",
     "output_type": "stream",
     "text": [
      "{1, 2, 3, 4, 5, 6, 7, 8}\n",
      "[1, 2, 3, 4, 5, 6, 7, 8]\n",
      "(1, 2, 3, 4, 5, 6, 7, 8)\n",
      "{1, 4, 7, 9, 10}\n",
      "{8, 90, 4, 7}\n"
     ]
    }
   ],
   "source": [
    "a={1,2,4,5,6,3,5,2,6,7,8}\n",
    "print(a)\n",
    "a=list(a)\n",
    "print(a)\n",
    "a=tuple(a)\n",
    "print(a)\n",
    "a=set([1,4,7,9,10])\n",
    "print(a)\n",
    "b=set((4,7,8,90))## tuple to set\n",
    "print(b)"
   ]
  },
  {
   "cell_type": "markdown",
   "metadata": {},
   "source": [
    "## dictionary:\n",
    "ordered collecton of items\n",
    "\n",
    "optimised to retrieve values when the key is known\n",
    "\n",
    "each item has a key/value pair\n",
    "\n",
    "every data is written here is in dictionary format when open with notepad\n",
    "\n"
   ]
  },
  {
   "cell_type": "code",
   "execution_count": 74,
   "metadata": {},
   "outputs": [
    {
     "name": "stdout",
     "output_type": "stream",
     "text": [
      "name: rafat\n",
      "age: 21\n"
     ]
    },
    {
     "ename": "KeyError",
     "evalue": "'address'",
     "output_type": "error",
     "traceback": [
      "\u001b[1;31m---------------------------------------------------------------------------\u001b[0m",
      "\u001b[1;31mKeyError\u001b[0m                                  Traceback (most recent call last)",
      "\u001b[1;32mc:\\Users\\HP\\Documents\\datasciencepy\\list.ipynb Cell 72\u001b[0m in \u001b[0;36m<cell line: 4>\u001b[1;34m()\u001b[0m\n\u001b[0;32m      <a href='vscode-notebook-cell:/c%3A/Users/HP/Documents/datasciencepy/list.ipynb#Y141sZmlsZQ%3D%3D?line=1'>2</a>\u001b[0m \u001b[39mprint\u001b[39m(\u001b[39m\"\u001b[39m\u001b[39mname:\u001b[39m\u001b[39m\"\u001b[39m,dic[\u001b[39m'\u001b[39m\u001b[39mname\u001b[39m\u001b[39m'\u001b[39m])\n\u001b[0;32m      <a href='vscode-notebook-cell:/c%3A/Users/HP/Documents/datasciencepy/list.ipynb#Y141sZmlsZQ%3D%3D?line=2'>3</a>\u001b[0m \u001b[39mprint\u001b[39m(\u001b[39m\"\u001b[39m\u001b[39mage:\u001b[39m\u001b[39m\"\u001b[39m,dic\u001b[39m.\u001b[39mget(\u001b[39m\"\u001b[39m\u001b[39mage\u001b[39m\u001b[39m\"\u001b[39m))\n\u001b[1;32m----> <a href='vscode-notebook-cell:/c%3A/Users/HP/Documents/datasciencepy/list.ipynb#Y141sZmlsZQ%3D%3D?line=3'>4</a>\u001b[0m \u001b[39mprint\u001b[39m(dic[\u001b[39m\"\u001b[39;49m\u001b[39maddress\u001b[39;49m\u001b[39m\"\u001b[39;49m])\n\u001b[0;32m      <a href='vscode-notebook-cell:/c%3A/Users/HP/Documents/datasciencepy/list.ipynb#Y141sZmlsZQ%3D%3D?line=4'>5</a>\u001b[0m \u001b[39mprint\u001b[39m(dic\u001b[39m.\u001b[39mget(\u001b[39m'\u001b[39m\u001b[39maddress\u001b[39m\u001b[39m'\u001b[39m))\n",
      "\u001b[1;31mKeyError\u001b[0m: 'address'"
     ]
    }
   ],
   "source": [
    "dic={\"name\":\"rafat\",\"age\":21,\"course\":\"MCA\"}\n",
    "print(\"name:\",dic['name'])\n",
    "print(\"age:\",dic.get(\"age\"))\n",
    "print(dic[\"address\"])\n",
    "print(dic.get('address'))"
   ]
  },
  {
   "cell_type": "code",
   "execution_count": 72,
   "metadata": {},
   "outputs": [
    {
     "name": "stdout",
     "output_type": "stream",
     "text": [
      "23\n",
      "raja ji puram luckonow\n",
      "{'age': 23, 'course': 'MCA', 'address': 'raja ji puram luckonow'}\n"
     ]
    }
   ],
   "source": [
    "dic[\"age\"]=23\n",
    "print(dic.get(\"age\"))\n",
    "dic[\"address\"]=\"raja ji puram luckonow\"\n",
    "print(dic[\"address\"])\n",
    "print(dic)"
   ]
  },
  {
   "cell_type": "code",
   "execution_count": 75,
   "metadata": {},
   "outputs": [
    {
     "name": "stdout",
     "output_type": "stream",
     "text": [
      "rafat\n",
      "{'age': 21, 'course': 'MCA'}\n"
     ]
    }
   ],
   "source": [
    "print(dic.pop(\"name\"))\n",
    "print(dic)\n"
   ]
  },
  {
   "cell_type": "code",
   "execution_count": 76,
   "metadata": {},
   "outputs": [
    {
     "name": "stdout",
     "output_type": "stream",
     "text": [
      "('course', 'MCA')\n",
      "{'age': 21}\n"
     ]
    }
   ],
   "source": [
    "print(dic.popitem())\n",
    "print(dic)"
   ]
  },
  {
   "cell_type": "code",
   "execution_count": 77,
   "metadata": {},
   "outputs": [
    {
     "name": "stdout",
     "output_type": "stream",
     "text": [
      "None\n"
     ]
    }
   ],
   "source": [
    "print(dic.clear())"
   ]
  },
  {
   "cell_type": "code",
   "execution_count": 95,
   "metadata": {},
   "outputs": [],
   "source": [
    "report={\"student1\":\n",
    "{\"name\":\"john\",\n",
    "\"marks\":{\"maths\":45,\"sci\":54,\"eng\":45}},\n",
    "\"student2\":\n",
    "{\"name\":\"rafat\",\n",
    "\"marks\":{\"maths\":47,\"sci\":58,\"eng\":49}}}"
   ]
  },
  {
   "cell_type": "code",
   "execution_count": 96,
   "metadata": {},
   "outputs": [
    {
     "name": "stdout",
     "output_type": "stream",
     "text": [
      "john\n",
      "{'maths': 45, 'sci': 54, 'eng': 45}\n",
      "45\n"
     ]
    }
   ],
   "source": [
    "print(report[\"student1\"][\"name\"])\n",
    "print(report[\"student1\"][\"marks\"])\n",
    "print(report[\"student1\"][\"marks\"][\"eng\"])\n"
   ]
  },
  {
   "cell_type": "code",
   "execution_count": 97,
   "metadata": {},
   "outputs": [
    {
     "name": "stdout",
     "output_type": "stream",
     "text": [
      "student1\n",
      "student2\n"
     ]
    }
   ],
   "source": [
    "for i in report:\n",
    "    print(i)"
   ]
  },
  {
   "cell_type": "code",
   "execution_count": 12,
   "metadata": {},
   "outputs": [
    {
     "ename": "IndentationError",
     "evalue": "unindent does not match any outer indentation level (<tokenize>, line 8)",
     "output_type": "error",
     "traceback": [
      "\u001b[1;36m  File \u001b[1;32m<tokenize>:8\u001b[1;36m\u001b[0m\n\u001b[1;33m    else:\u001b[0m\n\u001b[1;37m    ^\u001b[0m\n\u001b[1;31mIndentationError\u001b[0m\u001b[1;31m:\u001b[0m unindent does not match any outer indentation level\n"
     ]
    }
   ],
   "source": [
    "for k,v in report.items():\n",
    "    print(\"student\",k)\n",
    "      if instance(v,dict):\n",
    "         for k1,v1 in v.items():\n",
    "              if instance(v1,dict):\n",
    "                  for sub,narks in v1.items():\n",
    "                     print(sub,marks)\n",
    "                else:\n",
    "                    print(v1)\n",
    "     else:\n",
    "         print(v)                "
   ]
  },
  {
   "cell_type": "markdown",
   "metadata": {},
   "source": [
    "for the next class  install it in anaconda prompt\n",
    "pip install pgzero"
   ]
  },
  {
   "cell_type": "code",
   "execution_count": null,
   "metadata": {},
   "outputs": [],
   "source": []
  }
 ],
 "metadata": {
  "kernelspec": {
   "display_name": "Python 3.9.12 ('base')",
   "language": "python",
   "name": "python3"
  },
  "language_info": {
   "codemirror_mode": {
    "name": "ipython",
    "version": 3
   },
   "file_extension": ".py",
   "mimetype": "text/x-python",
   "name": "python",
   "nbconvert_exporter": "python",
   "pygments_lexer": "ipython3",
   "version": "3.9.12"
  },
  "orig_nbformat": 4,
  "vscode": {
   "interpreter": {
    "hash": "5b6002d1e928962cd19dde4287e8a81266a3dfa22c12012df96bb19a6e27b9c0"
   }
  }
 },
 "nbformat": 4,
 "nbformat_minor": 2
}
